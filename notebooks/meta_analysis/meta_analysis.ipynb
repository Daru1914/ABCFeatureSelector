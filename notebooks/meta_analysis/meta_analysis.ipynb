{
 "cells": [
  {
   "cell_type": "code",
   "execution_count": 12,
   "metadata": {},
   "outputs": [],
   "source": [
    "import json\n",
    "import os\n",
    "\n",
    "import pandas as pd\n",
    "import polars as pl\n",
    "import seaborn as sns\n",
    "import matplotlib.pyplot as plt"
   ]
  },
  {
   "cell_type": "code",
   "execution_count": 13,
   "metadata": {},
   "outputs": [],
   "source": [
    "dataset_path = \"dataset\""
   ]
  },
  {
   "cell_type": "code",
   "execution_count": 3,
   "metadata": {},
   "outputs": [
    {
     "name": "stdout",
     "output_type": "stream",
     "text": [
      "Dataset has 27 repos in total\n"
     ]
    }
   ],
   "source": [
    "def check_dataset(dataset_folder_path):\n",
    "    folders_in_dataset = set(os.listdir(dataset_folder_path))\n",
    "\n",
    "    # info print\n",
    "    print(f\"Dataset has {len(folders_in_dataset)} repos in total\")\n",
    "    return None\n",
    "\n",
    "check_dataset(dataset_path)"
   ]
  },
  {
   "cell_type": "code",
   "execution_count": 17,
   "metadata": {},
   "outputs": [],
   "source": [
    "df = pd.read_csv(f\"dataset\\python-poetry_poetry-Method.csv\")\n",
    "def df_transformation(df: pd.DataFrame) -> pd.DataFrame:\n",
    "    df.drop([\"Name\", \"LongName\", \"Parent\", \"Component\", \"Path\", \"Line\", \"Column\", \"EndLine\", \"EndColumn\", \"ID\"],\n",
    "            axis=1, inplace=True)\n",
    "    return df\n",
    "trans = df_transformation(df)\n",
    "METHOD_METRICS_LIST = list(trans.columns)"
   ]
  },
  {
   "cell_type": "code",
   "execution_count": 8,
   "metadata": {},
   "outputs": [],
   "source": [
    "def get_datasets_stats(folder_path, class_stats=True):\n",
    "    if class_stats:\n",
    "        suffix = \"-Class.csv\"\n",
    "    else:\n",
    "        suffix = \"-Method.csv\"\n",
    "    results = []\n",
    "    columns_list = [x for x in (CLASS_METRICS_LIST if class_stats else METHOD_METRICS_LIST)]\n",
    "    num_columns = len(columns_list)\n",
    "    for root, dirs, files in os.walk(folder_path):\n",
    "        for file in files:\n",
    "            if file.endswith(suffix):\n",
    "                file_path = os.path.join(root, file)\n",
    "                df = pl.read_csv(file_path, columns=columns_list, dtypes=[pl.Float32]*num_columns)\n",
    "                if len(df) == 0:\n",
    "                    print(f\"Skipping empty {file}\")\n",
    "                    continue\n",
    "                repo_name = file.split('-')[0] # only repo name\n",
    "                nulls_list = df.null_count().row(0)\n",
    "                try:\n",
    "                    nans_list = df.select(pl.all().is_nan().sum()).row(0)\n",
    "                except Exception as e:\n",
    "                    print(repo_name)\n",
    "                    print(df.schema)\n",
    "                    print(e)\n",
    "                results.append((repo_name, *nulls_list, *nans_list))\n",
    "\n",
    "    null_colnames = [x+\"_nulls\" for x in columns_list]\n",
    "    nan_colnames = [x+\"_NANs\" for x in columns_list]\n",
    "    df_schema = [\"repo_name\", *null_colnames, *nan_colnames]\n",
    "    res_df = pl.DataFrame(results, schema=df_schema)\n",
    "    return res_df"
   ]
  },
  {
   "cell_type": "markdown",
   "metadata": {},
   "source": [
    "### Method metrics null analysis"
   ]
  },
  {
   "cell_type": "code",
   "execution_count": 18,
   "metadata": {},
   "outputs": [
    {
     "name": "stderr",
     "output_type": "stream",
     "text": [
      "C:\\Users\\user\\AppData\\Local\\Temp\\ipykernel_13456\\1452875311.py:13: DeprecationWarning: The argument `dtypes` for `read_csv` is deprecated. It has been renamed to `schema_overrides`.\n",
      "  df = pl.read_csv(file_path, columns=columns_list, dtypes=[pl.Float32]*num_columns)\n",
      "C:\\Users\\user\\AppData\\Local\\Temp\\ipykernel_13456\\1452875311.py:30: DataOrientationWarning: Row orientation inferred during DataFrame construction. Explicitly specify the orientation by passing `orient=\"row\"` to silence this warning.\n",
      "  res_df = pl.DataFrame(results, schema=df_schema)\n"
     ]
    }
   ],
   "source": [
    "df_null_stats_methods = get_datasets_stats(dataset_path, class_stats=False)"
   ]
  },
  {
   "cell_type": "code",
   "execution_count": 19,
   "metadata": {},
   "outputs": [
    {
     "data": {
      "text/html": [
       "<div><style>\n",
       ".dataframe > thead > tr,\n",
       ".dataframe > tbody > tr {\n",
       "  text-align: right;\n",
       "  white-space: pre-wrap;\n",
       "}\n",
       "</style>\n",
       "<small>shape: (27, 55)</small><table border=\"1\" class=\"dataframe\"><thead><tr><th>repo_name</th><th>CD_nulls</th><th>CLOC_nulls</th><th>DLOC_nulls</th><th>LLOC_nulls</th><th>LOC_nulls</th><th>McCC_nulls</th><th>NII_nulls</th><th>NL_nulls</th><th>NLE_nulls</th><th>NOI_nulls</th><th>NOS_nulls</th><th>NUMPAR_nulls</th><th>TCD_nulls</th><th>TCLOC_nulls</th><th>TLLOC_nulls</th><th>TLOC_nulls</th><th>TNOS_nulls</th><th>WarningBlocker_nulls</th><th>WarningCritical_nulls</th><th>WarningInfo_nulls</th><th>WarningMajor_nulls</th><th>WarningMinor_nulls</th><th>Anti Pattern_nulls</th><th>Complexity Metric Rules_nulls</th><th>Coupling Metric Rules_nulls</th><th>Documentation Metric Rules_nulls</th><th>Size Metric Rules_nulls</th><th>CD_NANs</th><th>CLOC_NANs</th><th>DLOC_NANs</th><th>LLOC_NANs</th><th>LOC_NANs</th><th>McCC_NANs</th><th>NII_NANs</th><th>NL_NANs</th><th>NLE_NANs</th><th>NOI_NANs</th><th>NOS_NANs</th><th>NUMPAR_NANs</th><th>TCD_NANs</th><th>TCLOC_NANs</th><th>TLLOC_NANs</th><th>TLOC_NANs</th><th>TNOS_NANs</th><th>WarningBlocker_NANs</th><th>WarningCritical_NANs</th><th>WarningInfo_NANs</th><th>WarningMajor_NANs</th><th>WarningMinor_NANs</th><th>Anti Pattern_NANs</th><th>Complexity Metric Rules_NANs</th><th>Coupling Metric Rules_NANs</th><th>Documentation Metric Rules_NANs</th><th>Size Metric Rules_NANs</th></tr><tr><td>str</td><td>i64</td><td>i64</td><td>i64</td><td>i64</td><td>i64</td><td>i64</td><td>i64</td><td>i64</td><td>i64</td><td>i64</td><td>i64</td><td>i64</td><td>i64</td><td>i64</td><td>i64</td><td>i64</td><td>i64</td><td>i64</td><td>i64</td><td>i64</td><td>i64</td><td>i64</td><td>i64</td><td>i64</td><td>i64</td><td>i64</td><td>i64</td><td>i64</td><td>i64</td><td>i64</td><td>i64</td><td>i64</td><td>i64</td><td>i64</td><td>i64</td><td>i64</td><td>i64</td><td>i64</td><td>i64</td><td>i64</td><td>i64</td><td>i64</td><td>i64</td><td>i64</td><td>i64</td><td>i64</td><td>i64</td><td>i64</td><td>i64</td><td>i64</td><td>i64</td><td>i64</td><td>i64</td><td>i64</td></tr></thead><tbody><tr><td>&quot;encode_django&quot;</td><td>0</td><td>0</td><td>0</td><td>0</td><td>0</td><td>0</td><td>0</td><td>0</td><td>0</td><td>0</td><td>0</td><td>0</td><td>0</td><td>0</td><td>0</td><td>0</td><td>0</td><td>0</td><td>0</td><td>0</td><td>0</td><td>0</td><td>0</td><td>0</td><td>0</td><td>0</td><td>0</td><td>0</td><td>0</td><td>0</td><td>0</td><td>0</td><td>0</td><td>0</td><td>0</td><td>0</td><td>0</td><td>0</td><td>0</td><td>0</td><td>0</td><td>0</td><td>0</td><td>0</td><td>0</td><td>0</td><td>0</td><td>0</td><td>0</td><td>0</td><td>0</td><td>0</td><td>0</td><td>0</td></tr><tr><td>&quot;explosion_spaCy&quot;</td><td>0</td><td>0</td><td>0</td><td>0</td><td>0</td><td>0</td><td>0</td><td>0</td><td>0</td><td>0</td><td>0</td><td>0</td><td>0</td><td>0</td><td>0</td><td>0</td><td>0</td><td>0</td><td>0</td><td>0</td><td>0</td><td>0</td><td>0</td><td>0</td><td>0</td><td>0</td><td>0</td><td>0</td><td>0</td><td>0</td><td>0</td><td>0</td><td>0</td><td>0</td><td>0</td><td>0</td><td>0</td><td>0</td><td>0</td><td>0</td><td>0</td><td>0</td><td>0</td><td>0</td><td>0</td><td>0</td><td>0</td><td>0</td><td>0</td><td>0</td><td>0</td><td>0</td><td>0</td><td>0</td></tr><tr><td>&quot;facebookresearch_detectron2&quot;</td><td>0</td><td>0</td><td>0</td><td>0</td><td>0</td><td>0</td><td>0</td><td>0</td><td>0</td><td>0</td><td>0</td><td>0</td><td>0</td><td>0</td><td>0</td><td>0</td><td>0</td><td>0</td><td>0</td><td>0</td><td>0</td><td>0</td><td>0</td><td>0</td><td>0</td><td>0</td><td>0</td><td>0</td><td>0</td><td>0</td><td>0</td><td>0</td><td>0</td><td>0</td><td>0</td><td>0</td><td>0</td><td>0</td><td>0</td><td>0</td><td>0</td><td>0</td><td>0</td><td>0</td><td>0</td><td>0</td><td>0</td><td>0</td><td>0</td><td>0</td><td>0</td><td>0</td><td>0</td><td>0</td></tr><tr><td>&quot;freqtrade_freqtrade&quot;</td><td>0</td><td>0</td><td>0</td><td>0</td><td>0</td><td>0</td><td>0</td><td>0</td><td>0</td><td>0</td><td>0</td><td>0</td><td>0</td><td>0</td><td>0</td><td>0</td><td>0</td><td>0</td><td>0</td><td>0</td><td>0</td><td>0</td><td>0</td><td>0</td><td>0</td><td>0</td><td>0</td><td>0</td><td>0</td><td>0</td><td>0</td><td>0</td><td>0</td><td>0</td><td>0</td><td>0</td><td>0</td><td>0</td><td>0</td><td>0</td><td>0</td><td>0</td><td>0</td><td>0</td><td>0</td><td>0</td><td>0</td><td>0</td><td>0</td><td>0</td><td>0</td><td>0</td><td>0</td><td>0</td></tr><tr><td>&quot;geekan_MetaGPT&quot;</td><td>0</td><td>0</td><td>0</td><td>0</td><td>0</td><td>0</td><td>0</td><td>0</td><td>0</td><td>0</td><td>0</td><td>0</td><td>0</td><td>0</td><td>0</td><td>0</td><td>0</td><td>0</td><td>0</td><td>0</td><td>0</td><td>0</td><td>0</td><td>0</td><td>0</td><td>0</td><td>0</td><td>0</td><td>0</td><td>0</td><td>0</td><td>0</td><td>0</td><td>0</td><td>0</td><td>0</td><td>0</td><td>0</td><td>0</td><td>0</td><td>0</td><td>0</td><td>0</td><td>0</td><td>0</td><td>0</td><td>0</td><td>0</td><td>0</td><td>0</td><td>0</td><td>0</td><td>0</td><td>0</td></tr><tr><td>&hellip;</td><td>&hellip;</td><td>&hellip;</td><td>&hellip;</td><td>&hellip;</td><td>&hellip;</td><td>&hellip;</td><td>&hellip;</td><td>&hellip;</td><td>&hellip;</td><td>&hellip;</td><td>&hellip;</td><td>&hellip;</td><td>&hellip;</td><td>&hellip;</td><td>&hellip;</td><td>&hellip;</td><td>&hellip;</td><td>&hellip;</td><td>&hellip;</td><td>&hellip;</td><td>&hellip;</td><td>&hellip;</td><td>&hellip;</td><td>&hellip;</td><td>&hellip;</td><td>&hellip;</td><td>&hellip;</td><td>&hellip;</td><td>&hellip;</td><td>&hellip;</td><td>&hellip;</td><td>&hellip;</td><td>&hellip;</td><td>&hellip;</td><td>&hellip;</td><td>&hellip;</td><td>&hellip;</td><td>&hellip;</td><td>&hellip;</td><td>&hellip;</td><td>&hellip;</td><td>&hellip;</td><td>&hellip;</td><td>&hellip;</td><td>&hellip;</td><td>&hellip;</td><td>&hellip;</td><td>&hellip;</td><td>&hellip;</td><td>&hellip;</td><td>&hellip;</td><td>&hellip;</td><td>&hellip;</td><td>&hellip;</td></tr><tr><td>&quot;python&quot;</td><td>0</td><td>0</td><td>0</td><td>0</td><td>0</td><td>0</td><td>0</td><td>0</td><td>0</td><td>0</td><td>0</td><td>0</td><td>0</td><td>0</td><td>0</td><td>0</td><td>0</td><td>0</td><td>0</td><td>0</td><td>0</td><td>0</td><td>0</td><td>0</td><td>0</td><td>0</td><td>0</td><td>0</td><td>0</td><td>0</td><td>0</td><td>0</td><td>0</td><td>0</td><td>0</td><td>0</td><td>0</td><td>0</td><td>0</td><td>0</td><td>0</td><td>0</td><td>0</td><td>0</td><td>0</td><td>0</td><td>0</td><td>0</td><td>0</td><td>0</td><td>0</td><td>0</td><td>0</td><td>0</td></tr><tr><td>&quot;python&quot;</td><td>0</td><td>0</td><td>0</td><td>0</td><td>0</td><td>0</td><td>0</td><td>0</td><td>0</td><td>0</td><td>0</td><td>0</td><td>0</td><td>0</td><td>0</td><td>0</td><td>0</td><td>0</td><td>0</td><td>0</td><td>0</td><td>0</td><td>0</td><td>0</td><td>0</td><td>0</td><td>0</td><td>0</td><td>0</td><td>0</td><td>0</td><td>0</td><td>0</td><td>0</td><td>0</td><td>0</td><td>0</td><td>0</td><td>0</td><td>0</td><td>0</td><td>0</td><td>0</td><td>0</td><td>0</td><td>0</td><td>0</td><td>0</td><td>0</td><td>0</td><td>0</td><td>0</td><td>0</td><td>0</td></tr><tr><td>&quot;ray&quot;</td><td>0</td><td>0</td><td>0</td><td>0</td><td>0</td><td>0</td><td>0</td><td>0</td><td>0</td><td>0</td><td>0</td><td>0</td><td>0</td><td>0</td><td>0</td><td>0</td><td>0</td><td>0</td><td>0</td><td>0</td><td>0</td><td>0</td><td>0</td><td>0</td><td>0</td><td>0</td><td>0</td><td>0</td><td>0</td><td>0</td><td>0</td><td>0</td><td>0</td><td>0</td><td>0</td><td>0</td><td>0</td><td>0</td><td>0</td><td>0</td><td>0</td><td>0</td><td>0</td><td>0</td><td>0</td><td>0</td><td>0</td><td>0</td><td>0</td><td>0</td><td>0</td><td>0</td><td>0</td><td>0</td></tr><tr><td>&quot;sqlmapproject_sqlmap&quot;</td><td>0</td><td>0</td><td>0</td><td>0</td><td>0</td><td>0</td><td>0</td><td>0</td><td>0</td><td>0</td><td>0</td><td>0</td><td>0</td><td>0</td><td>0</td><td>0</td><td>0</td><td>0</td><td>0</td><td>0</td><td>0</td><td>0</td><td>0</td><td>0</td><td>0</td><td>0</td><td>0</td><td>0</td><td>0</td><td>0</td><td>0</td><td>0</td><td>0</td><td>0</td><td>0</td><td>0</td><td>0</td><td>0</td><td>0</td><td>0</td><td>0</td><td>0</td><td>0</td><td>0</td><td>0</td><td>0</td><td>0</td><td>0</td><td>0</td><td>0</td><td>0</td><td>0</td><td>0</td><td>0</td></tr><tr><td>&quot;streamlit_streamlit&quot;</td><td>0</td><td>0</td><td>0</td><td>0</td><td>0</td><td>0</td><td>0</td><td>0</td><td>0</td><td>0</td><td>0</td><td>0</td><td>0</td><td>0</td><td>0</td><td>0</td><td>0</td><td>0</td><td>0</td><td>0</td><td>0</td><td>0</td><td>0</td><td>0</td><td>0</td><td>0</td><td>0</td><td>0</td><td>0</td><td>0</td><td>0</td><td>0</td><td>0</td><td>0</td><td>0</td><td>0</td><td>0</td><td>0</td><td>0</td><td>0</td><td>0</td><td>0</td><td>0</td><td>0</td><td>0</td><td>0</td><td>0</td><td>0</td><td>0</td><td>0</td><td>0</td><td>0</td><td>0</td><td>0</td></tr></tbody></table></div>"
      ],
      "text/plain": [
       "shape: (27, 55)\n",
       "┌───────────┬──────────┬───────────┬───────────┬───┬───────────┬───────────┬───────────┬───────────┐\n",
       "│ repo_name ┆ CD_nulls ┆ CLOC_null ┆ DLOC_null ┆ … ┆ Complexit ┆ Coupling  ┆ Documenta ┆ Size      │\n",
       "│ ---       ┆ ---      ┆ s         ┆ s         ┆   ┆ y Metric  ┆ Metric    ┆ tion      ┆ Metric    │\n",
       "│ str       ┆ i64      ┆ ---       ┆ ---       ┆   ┆ Rules_NAN ┆ Rules_NAN ┆ Metric    ┆ Rules_NAN │\n",
       "│           ┆          ┆ i64       ┆ i64       ┆   ┆ s         ┆ s         ┆ Rules_NAN ┆ s         │\n",
       "│           ┆          ┆           ┆           ┆   ┆ ---       ┆ ---       ┆ …         ┆ ---       │\n",
       "│           ┆          ┆           ┆           ┆   ┆ i64       ┆ i64       ┆ ---       ┆ i64       │\n",
       "│           ┆          ┆           ┆           ┆   ┆           ┆           ┆ i64       ┆           │\n",
       "╞═══════════╪══════════╪═══════════╪═══════════╪═══╪═══════════╪═══════════╪═══════════╪═══════════╡\n",
       "│ encode_dj ┆ 0        ┆ 0         ┆ 0         ┆ … ┆ 0         ┆ 0         ┆ 0         ┆ 0         │\n",
       "│ ango      ┆          ┆           ┆           ┆   ┆           ┆           ┆           ┆           │\n",
       "│ explosion ┆ 0        ┆ 0         ┆ 0         ┆ … ┆ 0         ┆ 0         ┆ 0         ┆ 0         │\n",
       "│ _spaCy    ┆          ┆           ┆           ┆   ┆           ┆           ┆           ┆           │\n",
       "│ facebookr ┆ 0        ┆ 0         ┆ 0         ┆ … ┆ 0         ┆ 0         ┆ 0         ┆ 0         │\n",
       "│ esearch_d ┆          ┆           ┆           ┆   ┆           ┆           ┆           ┆           │\n",
       "│ etectron2 ┆          ┆           ┆           ┆   ┆           ┆           ┆           ┆           │\n",
       "│ freqtrade ┆ 0        ┆ 0         ┆ 0         ┆ … ┆ 0         ┆ 0         ┆ 0         ┆ 0         │\n",
       "│ _freqtrad ┆          ┆           ┆           ┆   ┆           ┆           ┆           ┆           │\n",
       "│ e         ┆          ┆           ┆           ┆   ┆           ┆           ┆           ┆           │\n",
       "│ geekan_Me ┆ 0        ┆ 0         ┆ 0         ┆ … ┆ 0         ┆ 0         ┆ 0         ┆ 0         │\n",
       "│ taGPT     ┆          ┆           ┆           ┆   ┆           ┆           ┆           ┆           │\n",
       "│ …         ┆ …        ┆ …         ┆ …         ┆ … ┆ …         ┆ …         ┆ …         ┆ …         │\n",
       "│ python    ┆ 0        ┆ 0         ┆ 0         ┆ … ┆ 0         ┆ 0         ┆ 0         ┆ 0         │\n",
       "│ python    ┆ 0        ┆ 0         ┆ 0         ┆ … ┆ 0         ┆ 0         ┆ 0         ┆ 0         │\n",
       "│ ray       ┆ 0        ┆ 0         ┆ 0         ┆ … ┆ 0         ┆ 0         ┆ 0         ┆ 0         │\n",
       "│ sqlmappro ┆ 0        ┆ 0         ┆ 0         ┆ … ┆ 0         ┆ 0         ┆ 0         ┆ 0         │\n",
       "│ ject_sqlm ┆          ┆           ┆           ┆   ┆           ┆           ┆           ┆           │\n",
       "│ ap        ┆          ┆           ┆           ┆   ┆           ┆           ┆           ┆           │\n",
       "│ streamlit ┆ 0        ┆ 0         ┆ 0         ┆ … ┆ 0         ┆ 0         ┆ 0         ┆ 0         │\n",
       "│ _streamli ┆          ┆           ┆           ┆   ┆           ┆           ┆           ┆           │\n",
       "│ t         ┆          ┆           ┆           ┆   ┆           ┆           ┆           ┆           │\n",
       "└───────────┴──────────┴───────────┴───────────┴───┴───────────┴───────────┴───────────┴───────────┘"
      ]
     },
     "execution_count": 19,
     "metadata": {},
     "output_type": "execute_result"
    }
   ],
   "source": [
    "df_null_stats_methods"
   ]
  },
  {
   "cell_type": "code",
   "execution_count": 22,
   "metadata": {},
   "outputs": [
    {
     "data": {
      "text/plain": [
       "0"
      ]
     },
     "execution_count": 22,
     "metadata": {},
     "output_type": "execute_result"
    }
   ],
   "source": [
    "# sum over columns, exclude first reponame column, sum\n",
    "max_sum = df_null_stats_methods.select(\n",
    "    pl.all().exclude(\"repo_name\").sum()\n",
    ").row(0)[0]\n",
    "max_sum"
   ]
  },
  {
   "cell_type": "markdown",
   "metadata": {},
   "source": [
    "### Calculating correlations"
   ]
  },
  {
   "cell_type": "code",
   "execution_count": 39,
   "metadata": {},
   "outputs": [],
   "source": [
    "def calculate_and_save_per_repo_correlations(folder_path):\n",
    "    suffix = \"-Method.csv\"\n",
    "    columns_list = [x for x in METHOD_METRICS_LIST]\n",
    "    num_columns = len(columns_list)\n",
    "    correlations = []\n",
    "    lengths = []\n",
    "    for root, dirs, files in os.walk(folder_path):\n",
    "        for file in files:\n",
    "            if file.endswith(suffix):\n",
    "                file_path = os.path.join(root, file)\n",
    "                df = pl.read_csv(file_path, columns=columns_list, schema_overrides={col: pl.Float32 for col in columns_list})\n",
    "                df = df.with_columns(\n",
    "                    [pl.col(col).fill_nan(0).alias(col) for col in df.columns]\n",
    "                )\n",
    "                df = df.with_columns(\n",
    "                    [pl.col(col).fill_null(0).alias(col) for col in df.columns]\n",
    "                )\n",
    "                df = df.select([col for col in df.columns if df[col].var() > 0])\n",
    "                if len(df) == 0:\n",
    "                    print(f\"Skipping empty {file}\")\n",
    "                    continue\n",
    "                if len(df) == 1:\n",
    "                    print(f\"Skipping oneline {file}\")\n",
    "                    continue\n",
    "                repo_name = file.split('-')[0] # only repo name\n",
    "                try:\n",
    "                    df_corr = df.corr().to_pandas() #.fill_nan(0).cast(pl.Float32) # XXX\n",
    "                    filepath = f\"{root}/correlations{suffix}\"\n",
    "                    df_corr.to_csv(filepath)\n",
    "                    correlations.append(df_corr)\n",
    "                    lengths.append(df.shape[0])\n",
    "                except Exception as e:\n",
    "                    print(repo_name)\n",
    "                    print(df_corr)\n",
    "                    # print(df.schema)\n",
    "                    print(e)\n",
    "\n",
    "    return correlations, lengths"
   ]
  },
  {
   "cell_type": "code",
   "execution_count": 40,
   "metadata": {},
   "outputs": [],
   "source": [
    "correlations_df_list, lengths_list = calculate_and_save_per_repo_correlations(dataset_path)"
   ]
  },
  {
   "cell_type": "code",
   "execution_count": 43,
   "metadata": {},
   "outputs": [
    {
     "data": {
      "text/html": [
       "<div>\n",
       "<style scoped>\n",
       "    .dataframe tbody tr th:only-of-type {\n",
       "        vertical-align: middle;\n",
       "    }\n",
       "\n",
       "    .dataframe tbody tr th {\n",
       "        vertical-align: top;\n",
       "    }\n",
       "\n",
       "    .dataframe thead th {\n",
       "        text-align: right;\n",
       "    }\n",
       "</style>\n",
       "<table border=\"1\" class=\"dataframe\">\n",
       "  <thead>\n",
       "    <tr style=\"text-align: right;\">\n",
       "      <th></th>\n",
       "      <th>CLOC</th>\n",
       "      <th>DLOC</th>\n",
       "      <th>LLOC</th>\n",
       "      <th>LOC</th>\n",
       "      <th>McCC</th>\n",
       "      <th>NOI</th>\n",
       "      <th>NOS</th>\n",
       "      <th>NUMPAR</th>\n",
       "      <th>TCLOC</th>\n",
       "      <th>TLLOC</th>\n",
       "      <th>TLOC</th>\n",
       "      <th>TNOS</th>\n",
       "      <th>WarningInfo</th>\n",
       "      <th>Anti Pattern</th>\n",
       "      <th>Complexity Metric Rules</th>\n",
       "      <th>Size Metric Rules</th>\n",
       "    </tr>\n",
       "  </thead>\n",
       "  <tbody>\n",
       "    <tr>\n",
       "      <th>0</th>\n",
       "      <td>1.000000</td>\n",
       "      <td>0.995885</td>\n",
       "      <td>0.597196</td>\n",
       "      <td>0.893689</td>\n",
       "      <td>0.483052</td>\n",
       "      <td>0.349519</td>\n",
       "      <td>0.432120</td>\n",
       "      <td>0.761423</td>\n",
       "      <td>0.999984</td>\n",
       "      <td>0.598584</td>\n",
       "      <td>0.888739</td>\n",
       "      <td>0.440221</td>\n",
       "      <td>0.817454</td>\n",
       "      <td>0.747172</td>\n",
       "      <td>0.536199</td>\n",
       "      <td>0.849381</td>\n",
       "    </tr>\n",
       "    <tr>\n",
       "      <th>1</th>\n",
       "      <td>0.995885</td>\n",
       "      <td>1.000000</td>\n",
       "      <td>0.524926</td>\n",
       "      <td>0.850620</td>\n",
       "      <td>0.405224</td>\n",
       "      <td>0.291821</td>\n",
       "      <td>0.349372</td>\n",
       "      <td>0.736594</td>\n",
       "      <td>0.995397</td>\n",
       "      <td>0.526303</td>\n",
       "      <td>0.844806</td>\n",
       "      <td>0.357782</td>\n",
       "      <td>0.771897</td>\n",
       "      <td>0.705789</td>\n",
       "      <td>0.467658</td>\n",
       "      <td>0.809194</td>\n",
       "    </tr>\n",
       "    <tr>\n",
       "      <th>2</th>\n",
       "      <td>0.597196</td>\n",
       "      <td>0.524926</td>\n",
       "      <td>1.000000</td>\n",
       "      <td>0.893250</td>\n",
       "      <td>0.917940</td>\n",
       "      <td>0.644668</td>\n",
       "      <td>0.949668</td>\n",
       "      <td>0.703076</td>\n",
       "      <td>0.601325</td>\n",
       "      <td>0.999804</td>\n",
       "      <td>0.897817</td>\n",
       "      <td>0.952356</td>\n",
       "      <td>0.866289</td>\n",
       "      <td>0.804567</td>\n",
       "      <td>0.866622</td>\n",
       "      <td>0.844293</td>\n",
       "    </tr>\n",
       "    <tr>\n",
       "      <th>3</th>\n",
       "      <td>0.893689</td>\n",
       "      <td>0.850620</td>\n",
       "      <td>0.893250</td>\n",
       "      <td>1.000000</td>\n",
       "      <td>0.786475</td>\n",
       "      <td>0.559746</td>\n",
       "      <td>0.777489</td>\n",
       "      <td>0.810992</td>\n",
       "      <td>0.896010</td>\n",
       "      <td>0.894092</td>\n",
       "      <td>0.999879</td>\n",
       "      <td>0.783510</td>\n",
       "      <td>0.939945</td>\n",
       "      <td>0.863186</td>\n",
       "      <td>0.785983</td>\n",
       "      <td>0.944982</td>\n",
       "    </tr>\n",
       "    <tr>\n",
       "      <th>4</th>\n",
       "      <td>0.483052</td>\n",
       "      <td>0.405224</td>\n",
       "      <td>0.917940</td>\n",
       "      <td>0.786475</td>\n",
       "      <td>1.000000</td>\n",
       "      <td>0.641254</td>\n",
       "      <td>0.954521</td>\n",
       "      <td>0.609482</td>\n",
       "      <td>0.487155</td>\n",
       "      <td>0.915781</td>\n",
       "      <td>0.790491</td>\n",
       "      <td>0.952203</td>\n",
       "      <td>0.836230</td>\n",
       "      <td>0.779994</td>\n",
       "      <td>0.953540</td>\n",
       "      <td>0.795239</td>\n",
       "    </tr>\n",
       "  </tbody>\n",
       "</table>\n",
       "</div>"
      ],
      "text/plain": [
       "       CLOC      DLOC      LLOC       LOC      McCC       NOI       NOS  \\\n",
       "0  1.000000  0.995885  0.597196  0.893689  0.483052  0.349519  0.432120   \n",
       "1  0.995885  1.000000  0.524926  0.850620  0.405224  0.291821  0.349372   \n",
       "2  0.597196  0.524926  1.000000  0.893250  0.917940  0.644668  0.949668   \n",
       "3  0.893689  0.850620  0.893250  1.000000  0.786475  0.559746  0.777489   \n",
       "4  0.483052  0.405224  0.917940  0.786475  1.000000  0.641254  0.954521   \n",
       "\n",
       "     NUMPAR     TCLOC     TLLOC      TLOC      TNOS  WarningInfo  \\\n",
       "0  0.761423  0.999984  0.598584  0.888739  0.440221     0.817454   \n",
       "1  0.736594  0.995397  0.526303  0.844806  0.357782     0.771897   \n",
       "2  0.703076  0.601325  0.999804  0.897817  0.952356     0.866289   \n",
       "3  0.810992  0.896010  0.894092  0.999879  0.783510     0.939945   \n",
       "4  0.609482  0.487155  0.915781  0.790491  0.952203     0.836230   \n",
       "\n",
       "   Anti Pattern  Complexity Metric Rules  Size Metric Rules  \n",
       "0      0.747172                 0.536199           0.849381  \n",
       "1      0.705789                 0.467658           0.809194  \n",
       "2      0.804567                 0.866622           0.844293  \n",
       "3      0.863186                 0.785983           0.944982  \n",
       "4      0.779994                 0.953540           0.795239  "
      ]
     },
     "execution_count": 43,
     "metadata": {},
     "output_type": "execute_result"
    }
   ],
   "source": [
    "correlations_df_list[0].head()\n"
   ]
  },
  {
   "cell_type": "code",
   "execution_count": 44,
   "metadata": {},
   "outputs": [
    {
     "data": {
      "text/plain": [
       "27"
      ]
     },
     "execution_count": 44,
     "metadata": {},
     "output_type": "execute_result"
    }
   ],
   "source": [
    "lengths_list[0]"
   ]
  },
  {
   "cell_type": "code",
   "execution_count": 51,
   "metadata": {},
   "outputs": [],
   "source": [
    "def dataset_correlations(folder_path):\n",
    "    suffix = \"-Method.csv\"\n",
    "    columns_list = [x for x in METHOD_METRICS_LIST]\n",
    "    num_columns = len(columns_list)\n",
    "    correlations = []\n",
    "    lengths = []\n",
    "    df_list = []\n",
    "    for root, dirs, files in os.walk(folder_path):\n",
    "        for file in files:\n",
    "            if file.endswith(suffix):\n",
    "                file_path = os.path.join(root, file)\n",
    "                df = pl.read_csv(file_path, columns=columns_list, schema_overrides={col: pl.Float32 for col in columns_list})\n",
    "                if len(df) == 0:\n",
    "                    print(f\"Skipping empty {file}\")\n",
    "                    continue\n",
    "                if len(df) == 1:\n",
    "                    print(f\"Skipping oneline {file}\")\n",
    "                    continue\n",
    "                df_list.append(df)\n",
    "\n",
    "    df_all = pl.concat(df_list)\n",
    "    return df_all"
   ]
  },
  {
   "cell_type": "code",
   "execution_count": 52,
   "metadata": {},
   "outputs": [
    {
     "data": {
      "text/html": [
       "<div><style>\n",
       ".dataframe > thead > tr,\n",
       ".dataframe > tbody > tr {\n",
       "  text-align: right;\n",
       "  white-space: pre-wrap;\n",
       "}\n",
       "</style>\n",
       "<small>shape: (111_584, 27)</small><table border=\"1\" class=\"dataframe\"><thead><tr><th>CD</th><th>CLOC</th><th>DLOC</th><th>LLOC</th><th>LOC</th><th>McCC</th><th>NII</th><th>NL</th><th>NLE</th><th>NOI</th><th>NOS</th><th>NUMPAR</th><th>TCD</th><th>TCLOC</th><th>TLLOC</th><th>TLOC</th><th>TNOS</th><th>WarningBlocker</th><th>WarningCritical</th><th>WarningInfo</th><th>WarningMajor</th><th>WarningMinor</th><th>Anti Pattern</th><th>Complexity Metric Rules</th><th>Coupling Metric Rules</th><th>Documentation Metric Rules</th><th>Size Metric Rules</th></tr><tr><td>f32</td><td>f32</td><td>f32</td><td>f32</td><td>f32</td><td>f32</td><td>f32</td><td>f32</td><td>f32</td><td>f32</td><td>f32</td><td>f32</td><td>f32</td><td>f32</td><td>f32</td><td>f32</td><td>f32</td><td>f32</td><td>f32</td><td>f32</td><td>f32</td><td>f32</td><td>f32</td><td>f32</td><td>f32</td><td>f32</td><td>f32</td></tr></thead><tbody><tr><td>0.0</td><td>2.0</td><td>0.0</td><td>2.0</td><td>3.0</td><td>1.0</td><td>0.0</td><td>0.0</td><td>0.0</td><td>0.0</td><td>1.0</td><td>1.0</td><td>0.0</td><td>2.0</td><td>2.0</td><td>3.0</td><td>1.0</td><td>0.0</td><td>0.0</td><td>0.0</td><td>0.0</td><td>0.0</td><td>0.0</td><td>0.0</td><td>0.0</td><td>0.0</td><td>0.0</td></tr><tr><td>0.0</td><td>1.0</td><td>0.0</td><td>2.0</td><td>3.0</td><td>1.0</td><td>0.0</td><td>0.0</td><td>0.0</td><td>0.0</td><td>1.0</td><td>3.0</td><td>0.0</td><td>1.0</td><td>2.0</td><td>3.0</td><td>1.0</td><td>0.0</td><td>0.0</td><td>0.0</td><td>0.0</td><td>0.0</td><td>0.0</td><td>0.0</td><td>0.0</td><td>0.0</td><td>0.0</td></tr><tr><td>0.0</td><td>3.0</td><td>3.0</td><td>2.0</td><td>5.0</td><td>1.0</td><td>0.0</td><td>0.0</td><td>0.0</td><td>0.0</td><td>1.0</td><td>2.0</td><td>0.0</td><td>3.0</td><td>2.0</td><td>5.0</td><td>1.0</td><td>0.0</td><td>0.0</td><td>0.0</td><td>0.0</td><td>0.0</td><td>0.0</td><td>0.0</td><td>0.0</td><td>0.0</td><td>0.0</td></tr><tr><td>0.0</td><td>5.0</td><td>5.0</td><td>2.0</td><td>7.0</td><td>1.0</td><td>0.0</td><td>0.0</td><td>0.0</td><td>0.0</td><td>1.0</td><td>2.0</td><td>0.0</td><td>5.0</td><td>2.0</td><td>7.0</td><td>1.0</td><td>0.0</td><td>0.0</td><td>0.0</td><td>0.0</td><td>0.0</td><td>0.0</td><td>0.0</td><td>0.0</td><td>0.0</td><td>0.0</td></tr><tr><td>0.0</td><td>4.0</td><td>4.0</td><td>20.0</td><td>29.0</td><td>7.0</td><td>0.0</td><td>0.0</td><td>0.0</td><td>2.0</td><td>17.0</td><td>2.0</td><td>0.0</td><td>4.0</td><td>20.0</td><td>29.0</td><td>17.0</td><td>0.0</td><td>0.0</td><td>0.0</td><td>0.0</td><td>0.0</td><td>0.0</td><td>0.0</td><td>0.0</td><td>0.0</td><td>0.0</td></tr><tr><td>&hellip;</td><td>&hellip;</td><td>&hellip;</td><td>&hellip;</td><td>&hellip;</td><td>&hellip;</td><td>&hellip;</td><td>&hellip;</td><td>&hellip;</td><td>&hellip;</td><td>&hellip;</td><td>&hellip;</td><td>&hellip;</td><td>&hellip;</td><td>&hellip;</td><td>&hellip;</td><td>&hellip;</td><td>&hellip;</td><td>&hellip;</td><td>&hellip;</td><td>&hellip;</td><td>&hellip;</td><td>&hellip;</td><td>&hellip;</td><td>&hellip;</td><td>&hellip;</td><td>&hellip;</td></tr><tr><td>0.0</td><td>0.0</td><td>0.0</td><td>2.0</td><td>2.0</td><td>1.0</td><td>0.0</td><td>0.0</td><td>0.0</td><td>0.0</td><td>1.0</td><td>1.0</td><td>0.0</td><td>0.0</td><td>2.0</td><td>2.0</td><td>1.0</td><td>0.0</td><td>0.0</td><td>0.0</td><td>0.0</td><td>0.0</td><td>0.0</td><td>0.0</td><td>0.0</td><td>0.0</td><td>0.0</td></tr><tr><td>0.0</td><td>0.0</td><td>0.0</td><td>2.0</td><td>2.0</td><td>1.0</td><td>0.0</td><td>0.0</td><td>0.0</td><td>0.0</td><td>1.0</td><td>1.0</td><td>0.0</td><td>0.0</td><td>2.0</td><td>2.0</td><td>1.0</td><td>0.0</td><td>0.0</td><td>0.0</td><td>0.0</td><td>0.0</td><td>0.0</td><td>0.0</td><td>0.0</td><td>0.0</td><td>0.0</td></tr><tr><td>0.0</td><td>0.0</td><td>0.0</td><td>2.0</td><td>2.0</td><td>1.0</td><td>0.0</td><td>0.0</td><td>0.0</td><td>0.0</td><td>1.0</td><td>1.0</td><td>0.0</td><td>0.0</td><td>2.0</td><td>2.0</td><td>1.0</td><td>0.0</td><td>0.0</td><td>0.0</td><td>0.0</td><td>0.0</td><td>0.0</td><td>0.0</td><td>0.0</td><td>0.0</td><td>0.0</td></tr><tr><td>0.0</td><td>0.0</td><td>0.0</td><td>2.0</td><td>2.0</td><td>1.0</td><td>0.0</td><td>0.0</td><td>0.0</td><td>0.0</td><td>1.0</td><td>1.0</td><td>0.0</td><td>0.0</td><td>2.0</td><td>2.0</td><td>1.0</td><td>0.0</td><td>0.0</td><td>0.0</td><td>0.0</td><td>0.0</td><td>0.0</td><td>0.0</td><td>0.0</td><td>0.0</td><td>0.0</td></tr><tr><td>0.0</td><td>0.0</td><td>0.0</td><td>2.0</td><td>2.0</td><td>1.0</td><td>0.0</td><td>0.0</td><td>0.0</td><td>0.0</td><td>1.0</td><td>1.0</td><td>0.0</td><td>0.0</td><td>2.0</td><td>2.0</td><td>1.0</td><td>0.0</td><td>0.0</td><td>0.0</td><td>0.0</td><td>0.0</td><td>0.0</td><td>0.0</td><td>0.0</td><td>0.0</td><td>0.0</td></tr></tbody></table></div>"
      ],
      "text/plain": [
       "shape: (111_584, 27)\n",
       "┌─────┬──────┬──────┬──────┬───┬──────────────┬─────────────────┬───────────────┬─────────────┐\n",
       "│ CD  ┆ CLOC ┆ DLOC ┆ LLOC ┆ … ┆ Complexity   ┆ Coupling Metric ┆ Documentation ┆ Size Metric │\n",
       "│ --- ┆ ---  ┆ ---  ┆ ---  ┆   ┆ Metric Rules ┆ Rules           ┆ Metric Rules  ┆ Rules       │\n",
       "│ f32 ┆ f32  ┆ f32  ┆ f32  ┆   ┆ ---          ┆ ---             ┆ ---           ┆ ---         │\n",
       "│     ┆      ┆      ┆      ┆   ┆ f32          ┆ f32             ┆ f32           ┆ f32         │\n",
       "╞═════╪══════╪══════╪══════╪═══╪══════════════╪═════════════════╪═══════════════╪═════════════╡\n",
       "│ 0.0 ┆ 2.0  ┆ 0.0  ┆ 2.0  ┆ … ┆ 0.0          ┆ 0.0             ┆ 0.0           ┆ 0.0         │\n",
       "│ 0.0 ┆ 1.0  ┆ 0.0  ┆ 2.0  ┆ … ┆ 0.0          ┆ 0.0             ┆ 0.0           ┆ 0.0         │\n",
       "│ 0.0 ┆ 3.0  ┆ 3.0  ┆ 2.0  ┆ … ┆ 0.0          ┆ 0.0             ┆ 0.0           ┆ 0.0         │\n",
       "│ 0.0 ┆ 5.0  ┆ 5.0  ┆ 2.0  ┆ … ┆ 0.0          ┆ 0.0             ┆ 0.0           ┆ 0.0         │\n",
       "│ 0.0 ┆ 4.0  ┆ 4.0  ┆ 20.0 ┆ … ┆ 0.0          ┆ 0.0             ┆ 0.0           ┆ 0.0         │\n",
       "│ …   ┆ …    ┆ …    ┆ …    ┆ … ┆ …            ┆ …               ┆ …             ┆ …           │\n",
       "│ 0.0 ┆ 0.0  ┆ 0.0  ┆ 2.0  ┆ … ┆ 0.0          ┆ 0.0             ┆ 0.0           ┆ 0.0         │\n",
       "│ 0.0 ┆ 0.0  ┆ 0.0  ┆ 2.0  ┆ … ┆ 0.0          ┆ 0.0             ┆ 0.0           ┆ 0.0         │\n",
       "│ 0.0 ┆ 0.0  ┆ 0.0  ┆ 2.0  ┆ … ┆ 0.0          ┆ 0.0             ┆ 0.0           ┆ 0.0         │\n",
       "│ 0.0 ┆ 0.0  ┆ 0.0  ┆ 2.0  ┆ … ┆ 0.0          ┆ 0.0             ┆ 0.0           ┆ 0.0         │\n",
       "│ 0.0 ┆ 0.0  ┆ 0.0  ┆ 2.0  ┆ … ┆ 0.0          ┆ 0.0             ┆ 0.0           ┆ 0.0         │\n",
       "└─────┴──────┴──────┴──────┴───┴──────────────┴─────────────────┴───────────────┴─────────────┘"
      ]
     },
     "execution_count": 52,
     "metadata": {},
     "output_type": "execute_result"
    }
   ],
   "source": [
    "df_all_dataset = dataset_correlations(dataset_path)\n",
    "df_all_dataset"
   ]
  },
  {
   "cell_type": "code",
   "execution_count": 62,
   "metadata": {},
   "outputs": [
    {
     "data": {
      "text/plain": [
       "['CD',\n",
       " 'NII',\n",
       " 'NL',\n",
       " 'NLE',\n",
       " 'TCD',\n",
       " 'WarningBlocker',\n",
       " 'WarningCritical',\n",
       " 'WarningMajor',\n",
       " 'WarningMinor',\n",
       " 'Documentation Metric Rules']"
      ]
     },
     "execution_count": 62,
     "metadata": {},
     "output_type": "execute_result"
    }
   ],
   "source": [
    "[col for col in df_all_dataset.columns if df_all_dataset[col].n_unique() == 1]"
   ]
  },
  {
   "cell_type": "code",
   "execution_count": 63,
   "metadata": {},
   "outputs": [],
   "source": [
    "df_all_dataset = df_all_dataset.select([col for col in df_all_dataset.columns if df_all_dataset[col].std() > 0])\n",
    "\n",
    "df_all_corr = df_all_dataset.corr()"
   ]
  },
  {
   "cell_type": "code",
   "execution_count": null,
   "metadata": {},
   "outputs": [
    {
     "name": "stdout",
     "output_type": "stream",
     "text": [
      "File saved successfully to outputs\\method-all-correlations.csv\n"
     ]
    }
   ],
   "source": [
    "output_dir = 'outputs'\n",
    "file_path = os.path.join(output_dir, 'method-all-correlations.csv')\n",
    "\n",
    "if not os.path.exists(output_dir):\n",
    "    os.makedirs(output_dir)\n",
    "\n",
    "df_all_corr.write_csv(file_path)\n",
    "print(f\"File saved successfully to {file_path}\")"
   ]
  },
  {
   "cell_type": "code",
   "execution_count": 65,
   "metadata": {},
   "outputs": [
    {
     "data": {
      "text/html": [
       "<div><style>\n",
       ".dataframe > thead > tr,\n",
       ".dataframe > tbody > tr {\n",
       "  text-align: right;\n",
       "  white-space: pre-wrap;\n",
       "}\n",
       "</style>\n",
       "<small>shape: (17, 17)</small><table border=\"1\" class=\"dataframe\"><thead><tr><th>CLOC</th><th>DLOC</th><th>LLOC</th><th>LOC</th><th>McCC</th><th>NOI</th><th>NOS</th><th>NUMPAR</th><th>TCLOC</th><th>TLLOC</th><th>TLOC</th><th>TNOS</th><th>WarningInfo</th><th>Anti Pattern</th><th>Complexity Metric Rules</th><th>Coupling Metric Rules</th><th>Size Metric Rules</th></tr><tr><td>f64</td><td>f64</td><td>f64</td><td>f64</td><td>f64</td><td>f64</td><td>f64</td><td>f64</td><td>f64</td><td>f64</td><td>f64</td><td>f64</td><td>f64</td><td>f64</td><td>f64</td><td>f64</td><td>f64</td></tr></thead><tbody><tr><td>1.0</td><td>0.94638</td><td>0.540243</td><td>0.76514</td><td>0.437091</td><td>0.271711</td><td>0.461628</td><td>0.442901</td><td>0.997118</td><td>0.525552</td><td>0.748858</td><td>0.450809</td><td>0.568132</td><td>0.409211</td><td>0.340437</td><td>0.142012</td><td>0.57108</td></tr><tr><td>0.94638</td><td>1.0</td><td>0.396</td><td>0.635322</td><td>0.329026</td><td>0.214876</td><td>0.300318</td><td>0.421979</td><td>0.942764</td><td>0.384052</td><td>0.6203</td><td>0.29309</td><td>0.457269</td><td>0.332369</td><td>0.244378</td><td>0.122331</td><td>0.468966</td></tr><tr><td>0.540243</td><td>0.396</td><td>1.0</td><td>0.951166</td><td>0.745786</td><td>0.345355</td><td>0.878052</td><td>0.560936</td><td>0.542029</td><td>0.975794</td><td>0.936754</td><td>0.859155</td><td>0.800181</td><td>0.64184</td><td>0.550363</td><td>0.166763</td><td>0.782283</td></tr><tr><td>0.76514</td><td>0.635322</td><td>0.951166</td><td>1.0</td><td>0.733383</td><td>0.370975</td><td>0.846091</td><td>0.576965</td><td>0.765387</td><td>0.929681</td><td>0.984557</td><td>0.829397</td><td>0.814787</td><td>0.633015</td><td>0.547857</td><td>0.183504</td><td>0.799885</td></tr><tr><td>0.437091</td><td>0.329026</td><td>0.745786</td><td>0.733383</td><td>1.0</td><td>0.3163</td><td>0.806831</td><td>0.429903</td><td>0.437221</td><td>0.725518</td><td>0.720085</td><td>0.785654</td><td>0.697642</td><td>0.591867</td><td>0.706676</td><td>0.166453</td><td>0.61252</td></tr><tr><td>&hellip;</td><td>&hellip;</td><td>&hellip;</td><td>&hellip;</td><td>&hellip;</td><td>&hellip;</td><td>&hellip;</td><td>&hellip;</td><td>&hellip;</td><td>&hellip;</td><td>&hellip;</td><td>&hellip;</td><td>&hellip;</td><td>&hellip;</td><td>&hellip;</td><td>&hellip;</td><td>&hellip;</td></tr><tr><td>0.568132</td><td>0.457269</td><td>0.800181</td><td>0.814787</td><td>0.697642</td><td>0.295331</td><td>0.712746</td><td>0.62409</td><td>0.574036</td><td>0.803426</td><td>0.820616</td><td>0.719678</td><td>1.0</td><td>0.80476</td><td>0.692919</td><td>0.181951</td><td>0.971163</td></tr><tr><td>0.409211</td><td>0.332369</td><td>0.64184</td><td>0.633015</td><td>0.591867</td><td>0.223781</td><td>0.555011</td><td>0.666592</td><td>0.412546</td><td>0.645049</td><td>0.638179</td><td>0.563285</td><td>0.80476</td><td>1.0</td><td>0.683213</td><td>0.09082</td><td>0.751519</td></tr><tr><td>0.340437</td><td>0.244378</td><td>0.550363</td><td>0.547857</td><td>0.706676</td><td>0.238682</td><td>0.59146</td><td>0.296979</td><td>0.345063</td><td>0.564557</td><td>0.561075</td><td>0.606371</td><td>0.692919</td><td>0.683213</td><td>1.0</td><td>0.110692</td><td>0.517573</td></tr><tr><td>0.142012</td><td>0.122331</td><td>0.166763</td><td>0.183504</td><td>0.166453</td><td>0.378982</td><td>0.165766</td><td>0.116902</td><td>0.141468</td><td>0.16052</td><td>0.178429</td><td>0.159574</td><td>0.181951</td><td>0.09082</td><td>0.110692</td><td>1.0</td><td>0.143107</td></tr><tr><td>0.57108</td><td>0.468966</td><td>0.782283</td><td>0.799885</td><td>0.61252</td><td>0.265506</td><td>0.664543</td><td>0.654397</td><td>0.576039</td><td>0.77873</td><td>0.800192</td><td>0.665495</td><td>0.971163</td><td>0.751519</td><td>0.517573</td><td>0.143107</td><td>1.0</td></tr></tbody></table></div>"
      ],
      "text/plain": [
       "shape: (17, 17)\n",
       "┌──────────┬──────────┬──────────┬──────────┬───┬────────────┬────────────┬────────────┬───────────┐\n",
       "│ CLOC     ┆ DLOC     ┆ LLOC     ┆ LOC      ┆ … ┆ Anti       ┆ Complexity ┆ Coupling   ┆ Size      │\n",
       "│ ---      ┆ ---      ┆ ---      ┆ ---      ┆   ┆ Pattern    ┆ Metric     ┆ Metric     ┆ Metric    │\n",
       "│ f64      ┆ f64      ┆ f64      ┆ f64      ┆   ┆ ---        ┆ Rules      ┆ Rules      ┆ Rules     │\n",
       "│          ┆          ┆          ┆          ┆   ┆ f64        ┆ ---        ┆ ---        ┆ ---       │\n",
       "│          ┆          ┆          ┆          ┆   ┆            ┆ f64        ┆ f64        ┆ f64       │\n",
       "╞══════════╪══════════╪══════════╪══════════╪═══╪════════════╪════════════╪════════════╪═══════════╡\n",
       "│ 1.0      ┆ 0.94638  ┆ 0.540243 ┆ 0.76514  ┆ … ┆ 0.409211   ┆ 0.340437   ┆ 0.142012   ┆ 0.57108   │\n",
       "│ 0.94638  ┆ 1.0      ┆ 0.396    ┆ 0.635322 ┆ … ┆ 0.332369   ┆ 0.244378   ┆ 0.122331   ┆ 0.468966  │\n",
       "│ 0.540243 ┆ 0.396    ┆ 1.0      ┆ 0.951166 ┆ … ┆ 0.64184    ┆ 0.550363   ┆ 0.166763   ┆ 0.782283  │\n",
       "│ 0.76514  ┆ 0.635322 ┆ 0.951166 ┆ 1.0      ┆ … ┆ 0.633015   ┆ 0.547857   ┆ 0.183504   ┆ 0.799885  │\n",
       "│ 0.437091 ┆ 0.329026 ┆ 0.745786 ┆ 0.733383 ┆ … ┆ 0.591867   ┆ 0.706676   ┆ 0.166453   ┆ 0.61252   │\n",
       "│ …        ┆ …        ┆ …        ┆ …        ┆ … ┆ …          ┆ …          ┆ …          ┆ …         │\n",
       "│ 0.568132 ┆ 0.457269 ┆ 0.800181 ┆ 0.814787 ┆ … ┆ 0.80476    ┆ 0.692919   ┆ 0.181951   ┆ 0.971163  │\n",
       "│ 0.409211 ┆ 0.332369 ┆ 0.64184  ┆ 0.633015 ┆ … ┆ 1.0        ┆ 0.683213   ┆ 0.09082    ┆ 0.751519  │\n",
       "│ 0.340437 ┆ 0.244378 ┆ 0.550363 ┆ 0.547857 ┆ … ┆ 0.683213   ┆ 1.0        ┆ 0.110692   ┆ 0.517573  │\n",
       "│ 0.142012 ┆ 0.122331 ┆ 0.166763 ┆ 0.183504 ┆ … ┆ 0.09082    ┆ 0.110692   ┆ 1.0        ┆ 0.143107  │\n",
       "│ 0.57108  ┆ 0.468966 ┆ 0.782283 ┆ 0.799885 ┆ … ┆ 0.751519   ┆ 0.517573   ┆ 0.143107   ┆ 1.0       │\n",
       "└──────────┴──────────┴──────────┴──────────┴───┴────────────┴────────────┴────────────┴───────────┘"
      ]
     },
     "execution_count": 65,
     "metadata": {},
     "output_type": "execute_result"
    }
   ],
   "source": [
    "df_all_corr"
   ]
  },
  {
   "cell_type": "code",
   "execution_count": 67,
   "metadata": {},
   "outputs": [
    {
     "data": {
      "text/html": [
       "<div><style>\n",
       ".dataframe > thead > tr,\n",
       ".dataframe > tbody > tr {\n",
       "  text-align: right;\n",
       "  white-space: pre-wrap;\n",
       "}\n",
       "</style>\n",
       "<small>shape: (272, 3)</small><table border=\"1\" class=\"dataframe\"><thead><tr><th>index</th><th>variable</th><th>value</th></tr><tr><td>str</td><td>str</td><td>f64</td></tr></thead><tbody><tr><td>&quot;DLOC&quot;</td><td>&quot;CLOC&quot;</td><td>0.94638</td></tr><tr><td>&quot;LLOC&quot;</td><td>&quot;CLOC&quot;</td><td>0.540243</td></tr><tr><td>&quot;LOC&quot;</td><td>&quot;CLOC&quot;</td><td>0.76514</td></tr><tr><td>&quot;McCC&quot;</td><td>&quot;CLOC&quot;</td><td>0.437091</td></tr><tr><td>&quot;NOI&quot;</td><td>&quot;CLOC&quot;</td><td>0.271711</td></tr><tr><td>&hellip;</td><td>&hellip;</td><td>&hellip;</td></tr><tr><td>&quot;TNOS&quot;</td><td>&quot;Size&nbsp;Metric&nbsp;Rules&quot;</td><td>0.665495</td></tr><tr><td>&quot;WarningInfo&quot;</td><td>&quot;Size&nbsp;Metric&nbsp;Rules&quot;</td><td>0.971163</td></tr><tr><td>&quot;Anti&nbsp;Pattern&quot;</td><td>&quot;Size&nbsp;Metric&nbsp;Rules&quot;</td><td>0.751519</td></tr><tr><td>&quot;Complexity&nbsp;Metric&nbsp;Rules&quot;</td><td>&quot;Size&nbsp;Metric&nbsp;Rules&quot;</td><td>0.517573</td></tr><tr><td>&quot;Coupling&nbsp;Metric&nbsp;Rules&quot;</td><td>&quot;Size&nbsp;Metric&nbsp;Rules&quot;</td><td>0.143107</td></tr></tbody></table></div>"
      ],
      "text/plain": [
       "shape: (272, 3)\n",
       "┌─────────────────────────┬───────────────────┬──────────┐\n",
       "│ index                   ┆ variable          ┆ value    │\n",
       "│ ---                     ┆ ---               ┆ ---      │\n",
       "│ str                     ┆ str               ┆ f64      │\n",
       "╞═════════════════════════╪═══════════════════╪══════════╡\n",
       "│ DLOC                    ┆ CLOC              ┆ 0.94638  │\n",
       "│ LLOC                    ┆ CLOC              ┆ 0.540243 │\n",
       "│ LOC                     ┆ CLOC              ┆ 0.76514  │\n",
       "│ McCC                    ┆ CLOC              ┆ 0.437091 │\n",
       "│ NOI                     ┆ CLOC              ┆ 0.271711 │\n",
       "│ …                       ┆ …                 ┆ …        │\n",
       "│ TNOS                    ┆ Size Metric Rules ┆ 0.665495 │\n",
       "│ WarningInfo             ┆ Size Metric Rules ┆ 0.971163 │\n",
       "│ Anti Pattern            ┆ Size Metric Rules ┆ 0.751519 │\n",
       "│ Complexity Metric Rules ┆ Size Metric Rules ┆ 0.517573 │\n",
       "│ Coupling Metric Rules   ┆ Size Metric Rules ┆ 0.143107 │\n",
       "└─────────────────────────┴───────────────────┴──────────┘"
      ]
     },
     "execution_count": 67,
     "metadata": {},
     "output_type": "execute_result"
    }
   ],
   "source": [
    "correlations_rows = (\n",
    "    df_all_dataset.corr()\n",
    "    .with_columns(pl.Series(name=\"index\", values=df_all_dataset.columns))\n",
    "    .unpivot(index = \"index\")\n",
    "    .filter(pl.col('index') != pl.col('variable'))\n",
    ")\n",
    "correlations_rows"
   ]
  },
  {
   "cell_type": "code",
   "execution_count": 68,
   "metadata": {},
   "outputs": [
    {
     "data": {
      "text/html": [
       "<div><style>\n",
       ".dataframe > thead > tr,\n",
       ".dataframe > tbody > tr {\n",
       "  text-align: right;\n",
       "  white-space: pre-wrap;\n",
       "}\n",
       "</style>\n",
       "<small>shape: (42, 3)</small><table border=\"1\" class=\"dataframe\"><thead><tr><th>index</th><th>variable</th><th>value</th></tr><tr><td>str</td><td>str</td><td>f64</td></tr></thead><tbody><tr><td>&quot;CLOC&quot;</td><td>&quot;TCLOC&quot;</td><td>0.997118</td></tr><tr><td>&quot;LOC&quot;</td><td>&quot;TLOC&quot;</td><td>0.984557</td></tr><tr><td>&quot;TLLOC&quot;</td><td>&quot;LLOC&quot;</td><td>0.975794</td></tr><tr><td>&quot;TNOS&quot;</td><td>&quot;NOS&quot;</td><td>0.975302</td></tr><tr><td>&quot;Size&nbsp;Metric&nbsp;Rules&quot;</td><td>&quot;WarningInfo&quot;</td><td>0.971163</td></tr><tr><td>&hellip;</td><td>&hellip;</td><td>&hellip;</td></tr><tr><td>&quot;TLLOC&quot;</td><td>&quot;McCC&quot;</td><td>0.725518</td></tr><tr><td>&quot;TLOC&quot;</td><td>&quot;McCC&quot;</td><td>0.720085</td></tr><tr><td>&quot;WarningInfo&quot;</td><td>&quot;TNOS&quot;</td><td>0.719678</td></tr><tr><td>&quot;WarningInfo&quot;</td><td>&quot;NOS&quot;</td><td>0.712746</td></tr><tr><td>&quot;Complexity&nbsp;Metric&nbsp;Rules&quot;</td><td>&quot;McCC&quot;</td><td>0.706676</td></tr></tbody></table></div>"
      ],
      "text/plain": [
       "shape: (42, 3)\n",
       "┌─────────────────────────┬─────────────┬──────────┐\n",
       "│ index                   ┆ variable    ┆ value    │\n",
       "│ ---                     ┆ ---         ┆ ---      │\n",
       "│ str                     ┆ str         ┆ f64      │\n",
       "╞═════════════════════════╪═════════════╪══════════╡\n",
       "│ CLOC                    ┆ TCLOC       ┆ 0.997118 │\n",
       "│ LOC                     ┆ TLOC        ┆ 0.984557 │\n",
       "│ TLLOC                   ┆ LLOC        ┆ 0.975794 │\n",
       "│ TNOS                    ┆ NOS         ┆ 0.975302 │\n",
       "│ Size Metric Rules       ┆ WarningInfo ┆ 0.971163 │\n",
       "│ …                       ┆ …           ┆ …        │\n",
       "│ TLLOC                   ┆ McCC        ┆ 0.725518 │\n",
       "│ TLOC                    ┆ McCC        ┆ 0.720085 │\n",
       "│ WarningInfo             ┆ TNOS        ┆ 0.719678 │\n",
       "│ WarningInfo             ┆ NOS         ┆ 0.712746 │\n",
       "│ Complexity Metric Rules ┆ McCC        ┆ 0.706676 │\n",
       "└─────────────────────────┴─────────────┴──────────┘"
      ]
     },
     "execution_count": 68,
     "metadata": {},
     "output_type": "execute_result"
    }
   ],
   "source": [
    "correlations_rows_important = correlations_rows.filter(pl.col('value').abs() > 0.7).sort(by='value', descending=True).gather_every(2)\n",
    "correlations_rows_important.write_csv('outputs/method-all-important.csv')\n",
    "correlations_rows_important"
   ]
  },
  {
   "cell_type": "markdown",
   "metadata": {},
   "source": [
    "### Meta Analysis"
   ]
  },
  {
   "cell_type": "code",
   "execution_count": 69,
   "metadata": {},
   "outputs": [],
   "source": [
    "import numpy as np\n",
    "import polars as pl\n",
    "import scipy\n",
    "\n",
    "def r_to_z(r_colname) -> pl.Expr:\n",
    "    return (0.5 * pl.Expr.log( (1 + pl.col(r_colname)) / (1 - pl.col(r_colname))))\n",
    "\n",
    "\n",
    "def variance_z(n_colname) -> pl.Expr:\n",
    "    return 1/(pl.col(n_colname) - 3)\n",
    "\n",
    "def z_to_r(z):\n",
    "    return (np.exp(2*z)-1)/(np.exp(2*z)+1)\n",
    "\n",
    "\n",
    "def std_z(n_colname) -> pl.Expr:\n",
    "    return pl.Expr.sqrt(variance_z(n_colname))\n",
    "\n",
    "\n",
    "def making_fixed_effect_df(df):\n",
    "    df_fixed = df.with_columns(\n",
    "        effect_size_Y=r_to_z('correlation'),\n",
    "        variance_within_V=variance_z('n'),\n",
    "    ).with_columns(\n",
    "        raw_weight_W=1/pl.col('variance_within_V')\n",
    "    ).with_columns(\n",
    "        WY=(pl.col('raw_weight_W') * pl.col('effect_size_Y')),\n",
    "        WY_2=(pl.col('raw_weight_W') * (pl.col('effect_size_Y'))**2),\n",
    "        W_2=(pl.col('raw_weight_W')**2),\n",
    "    )\n",
    "    return df_fixed\n",
    "\n",
    "def fixed_effect(df, alpha=0.05):\n",
    "    \"\"\"\n",
    "    Fixed-effect meta-analysis on given correlations polars.DataFrame.\n",
    "    \"\"\"\n",
    "    fixed_effect_df = making_fixed_effect_df(df)\n",
    "    fixed_effect_z = fixed_effect_df.select(pl.sum('WY')/pl.sum('raw_weight_W')).item()\n",
    "    fixed_variance_z = fixed_effect_df.select(1/pl.sum('raw_weight_W')).item()\n",
    "    fixed_std_z = np.sqrt(fixed_variance_z)\n",
    "    std_interval = scipy.stats.norm.isf(alpha/2)\n",
    "    fixed_int_z = (fixed_effect_z-std_interval*fixed_std_z, fixed_effect_z+std_interval*fixed_std_z)\n",
    "    z_value = fixed_effect_z/fixed_std_z\n",
    "    p_value = 2*scipy.stats.norm.sf(z_value)\n",
    "    fixed_effect_cor = z_to_r(fixed_effect_z)\n",
    "    fixed_int_corr = (z_to_r(fixed_int_z[0]), z_to_r(fixed_int_z[1]))\n",
    "    return (p_value, fixed_effect_cor, fixed_int_corr[0], fixed_int_corr[1], p_value <= alpha)\n",
    "\n",
    "def making_random_effects_df(df):\n",
    "    fixed_effect_df = making_fixed_effect_df(df)\n",
    "    Q = fixed_effect_df.select(pl.sum('WY_2') - pl.sum('WY')**2 / pl.sum('raw_weight_W')).item()\n",
    "    C = fixed_effect_df.select(pl.sum('raw_weight_W') - pl.sum('W_2')/pl.sum('raw_weight_W')).item()\n",
    "    T_2 = (Q - (len(fixed_effect_df)-1))/C\n",
    "    fixed_effect_df = (\n",
    "        fixed_effect_df.with_columns(V_star=pl.col('variance_within_V') + T_2)\n",
    "        .with_columns(W_star=1/pl.col('V_star'))\n",
    "        .with_columns(W_star_Y=pl.col('W_star')*pl.col('effect_size_Y'))\n",
    "    )\n",
    "    return fixed_effect_df\n",
    "\n",
    "def random_effects(df, alpha=0.05):\n",
    "    random_effects_df = making_random_effects_df(df)\n",
    "    random_effect_z = random_effects_df.select(pl.sum('W_star_Y')/pl.sum('W_star')).item()\n",
    "    random_variance_z = random_effects_df.select(1/pl.sum('W_star')).item()\n",
    "    random_std_z = np.sqrt(random_variance_z)\n",
    "    std_interval = scipy.stats.norm.isf(alpha/2)\n",
    "    random_int_z = (random_effect_z-std_interval*random_std_z, random_effect_z+std_interval*random_std_z)\n",
    "    z_value = random_effect_z/random_std_z\n",
    "    p_value = 2*scipy.stats.norm.sf(z_value)\n",
    "    random_effect_cor = z_to_r(random_effect_z)\n",
    "    random_int_corr = (z_to_r(random_int_z[0]), z_to_r(random_int_z[1]))\n",
    "    return (p_value, random_effect_cor, random_int_corr[0], random_int_corr[1], p_value <= alpha)"
   ]
  },
  {
   "cell_type": "code",
   "execution_count": 70,
   "metadata": {},
   "outputs": [],
   "source": [
    "from tqdm import trange\n",
    "\n",
    "def meta_analysis_correlations(correlations_list, lengths_list, fixed=True):\n",
    "    columns_names = correlations_list[0].columns\n",
    "    results = []\n",
    "    for i in trange(len(columns_names)):\n",
    "        for j in range(i + 1, len(columns_names)):\n",
    "            # analyzing correlations between columns i and j\n",
    "            data = []\n",
    "            for corr, length in zip(correlations_list, lengths_list):\n",
    "                if not corr.isna().iloc[i,j] and abs(corr.iloc[i, j]) != 1 and length > 3:\n",
    "                    data.append((corr.iloc[i, j], length))\n",
    "            # print(data)\n",
    "            df_data = pl.DataFrame(data, schema=['correlation', 'n'], orient='row')\n",
    "            if fixed:\n",
    "                result = fixed_effect(df_data)\n",
    "            else:\n",
    "                result = random_effects(df_data)\n",
    "            results.append((columns_names[i], columns_names[j], *result))\n",
    "\n",
    "    return pl.DataFrame(results, schema=['Metric A', 'Metric B', 'p-value', 'effect', 'interval_l', 'interval_r', 'significant'], orient='row')"
   ]
  },
  {
   "cell_type": "code",
   "execution_count": 71,
   "metadata": {},
   "outputs": [
    {
     "name": "stderr",
     "output_type": "stream",
     "text": [
      "100%|██████████| 16/16 [00:00<00:00, 27.14it/s]\n"
     ]
    }
   ],
   "source": [
    "meta_analysis_fixed_results = meta_analysis_correlations(correlations_df_list, lengths_list, fixed=True)\n",
    "meta_analysis_fixed_results.write_csv(\"outputs/method-meta-analysis-fixed.csv\")"
   ]
  },
  {
   "cell_type": "code",
   "execution_count": 72,
   "metadata": {},
   "outputs": [],
   "source": [
    "meta_analysis_fixed_results.filter(\n",
    "    (pl.col('significant') == 1) & (pl.col('effect').abs() > 0.7)\n",
    ").sort(pl.col('effect').abs(), descending=True).write_csv('outputs/method-fixed-important.csv')"
   ]
  },
  {
   "cell_type": "code",
   "execution_count": 73,
   "metadata": {},
   "outputs": [
    {
     "name": "stderr",
     "output_type": "stream",
     "text": [
      "100%|██████████| 16/16 [00:00<00:00, 22.37it/s]\n"
     ]
    }
   ],
   "source": [
    "meta_analysis_random_results = meta_analysis_correlations(correlations_df_list, lengths_list, fixed=False)\n",
    "meta_analysis_random_results.write_csv(\"outputs/method-meta-analysis-random.csv\")"
   ]
  },
  {
   "cell_type": "code",
   "execution_count": 74,
   "metadata": {},
   "outputs": [],
   "source": [
    "meta_analysis_random_results.filter(\n",
    "    (pl.col('significant') == 1) & (pl.col('effect').abs() > 0.7)\n",
    ").sort(pl.col('effect').abs(), descending=True).write_csv('outputs/method-random-important.csv')"
   ]
  },
  {
   "cell_type": "code",
   "execution_count": 84,
   "metadata": {},
   "outputs": [
    {
     "data": {
      "text/html": [
       "<div><style>\n",
       ".dataframe > thead > tr,\n",
       ".dataframe > tbody > tr {\n",
       "  text-align: right;\n",
       "  white-space: pre-wrap;\n",
       "}\n",
       "</style>\n",
       "<small>shape: (1,)</small><table border=\"1\" class=\"dataframe\"><thead><tr><th>p-value</th></tr><tr><td>f64</td></tr></thead><tbody><tr><td>0.0</td></tr></tbody></table></div>"
      ],
      "text/plain": [
       "shape: (1,)\n",
       "Series: 'p-value' [f64]\n",
       "[\n",
       "\t0.0\n",
       "]"
      ]
     },
     "execution_count": 84,
     "metadata": {},
     "output_type": "execute_result"
    }
   ],
   "source": [
    "meta_analysis_fixed_results[\"p-value\"].unique()"
   ]
  },
  {
   "cell_type": "code",
   "execution_count": 75,
   "metadata": {},
   "outputs": [
    {
     "data": {
      "text/html": [
       "<div><style>\n",
       ".dataframe > thead > tr,\n",
       ".dataframe > tbody > tr {\n",
       "  text-align: right;\n",
       "  white-space: pre-wrap;\n",
       "}\n",
       "</style>\n",
       "<small>shape: (2, 7)</small><table border=\"1\" class=\"dataframe\"><thead><tr><th>Metric A</th><th>Metric B</th><th>p-value</th><th>effect</th><th>interval_l</th><th>interval_r</th><th>significant</th></tr><tr><td>str</td><td>str</td><td>f64</td><td>f64</td><td>f64</td><td>f64</td><td>i64</td></tr></thead><tbody><tr><td>&quot;CLOC&quot;</td><td>&quot;DLOC&quot;</td><td>0.0</td><td>0.929271</td><td>0.928466</td><td>0.930068</td><td>1</td></tr><tr><td>&quot;TLLOC&quot;</td><td>&quot;TNOS&quot;</td><td>0.0</td><td>0.902864</td><td>0.901773</td><td>0.903943</td><td>1</td></tr></tbody></table></div>"
      ],
      "text/plain": [
       "shape: (2, 7)\n",
       "┌──────────┬──────────┬─────────┬──────────┬────────────┬────────────┬─────────────┐\n",
       "│ Metric A ┆ Metric B ┆ p-value ┆ effect   ┆ interval_l ┆ interval_r ┆ significant │\n",
       "│ ---      ┆ ---      ┆ ---     ┆ ---      ┆ ---        ┆ ---        ┆ ---         │\n",
       "│ str      ┆ str      ┆ f64     ┆ f64      ┆ f64        ┆ f64        ┆ i64         │\n",
       "╞══════════╪══════════╪═════════╪══════════╪════════════╪════════════╪═════════════╡\n",
       "│ CLOC     ┆ DLOC     ┆ 0.0     ┆ 0.929271 ┆ 0.928466   ┆ 0.930068   ┆ 1           │\n",
       "│ TLLOC    ┆ TNOS     ┆ 0.0     ┆ 0.902864 ┆ 0.901773   ┆ 0.903943   ┆ 1           │\n",
       "└──────────┴──────────┴─────────┴──────────┴────────────┴────────────┴─────────────┘"
      ]
     },
     "execution_count": 75,
     "metadata": {},
     "output_type": "execute_result"
    }
   ],
   "source": [
    "meta_analysis_fixed_results.sort(by='p-value', descending=True).gather_every(100).head(10)"
   ]
  },
  {
   "cell_type": "code",
   "execution_count": 77,
   "metadata": {},
   "outputs": [
    {
     "name": "stdout",
     "output_type": "stream",
     "text": [
      "shape: (28, 2)\n",
      "┌─────────────┬───────┐\n",
      "│ correlation ┆ n     │\n",
      "│ ---         ┆ ---   │\n",
      "│ f64         ┆ i64   │\n",
      "╞═════════════╪═══════╡\n",
      "│ 0.897817    ┆ 27    │\n",
      "│ 0.933046    ┆ 2592  │\n",
      "│ 0.963229    ┆ 522   │\n",
      "│ 0.903754    ┆ 2012  │\n",
      "│ 0.953661    ┆ 1657  │\n",
      "│ …           ┆ …     │\n",
      "│ 0.981204    ┆ 1021  │\n",
      "│ 0.900973    ┆ 4189  │\n",
      "│ 0.89214     ┆ 25244 │\n",
      "│ 0.99126     ┆ 1945  │\n",
      "│ 0.818055    ┆ 3975  │\n",
      "└─────────────┴───────┘\n"
     ]
    }
   ],
   "source": [
    "i = 2\n",
    "j = -6\n",
    "# analyzing correlations between columns i and j\n",
    "data = []\n",
    "for corr, length in zip(correlations_df_list, lengths_list):\n",
    "    if not corr.isna().iloc[i,j] and abs(corr.iloc[i, j]) != 1 and length > 3:\n",
    "        data.append((corr.iloc[i, j], length))\n",
    "# print(data)\n",
    "df_data = pl.DataFrame(data, schema=['correlation', 'n'], orient='row')\n",
    "print(df_data)"
   ]
  },
  {
   "cell_type": "code",
   "execution_count": 78,
   "metadata": {},
   "outputs": [
    {
     "data": {
      "text/plain": [
       "(0.0, 0.9089264423058883, 0.9079006546413128, 0.9099413442099106, True)"
      ]
     },
     "execution_count": 78,
     "metadata": {},
     "output_type": "execute_result"
    }
   ],
   "source": [
    "result = fixed_effect(df_data)\n",
    "result"
   ]
  },
  {
   "cell_type": "code",
   "execution_count": 2,
   "metadata": {},
   "outputs": [
    {
     "name": "stdout",
     "output_type": "stream",
     "text": [
      "Columns to drop: ['LOC', 'TCLOC', 'NOS', 'TLLOC', 'TNOS', 'DLOC', 'TLOC']\n"
     ]
    }
   ],
   "source": [
    "import pandas as pd\n",
    "\n",
    "def find_columns_to_drop(file_path, correlation_threshold=0.9):\n",
    "    df = pd.read_csv(file_path)\n",
    "    correlations = df[[\"Metric A\", \"Metric B\", \"effect\"]]\n",
    "    high_correlations = correlations[correlations[\"effect\"].abs() >= correlation_threshold]\n",
    "    columns_to_drop = set()\n",
    "    processed_columns = set()\n",
    "    \n",
    "    for _, row in high_correlations.iterrows():\n",
    "        col_a, col_b = row[\"Metric A\"], row[\"Metric B\"]\n",
    "        if col_a not in processed_columns and col_b not in processed_columns:\n",
    "            columns_to_drop.add(col_b)\n",
    "            processed_columns.add(col_a)\n",
    "            processed_columns.add(col_b)\n",
    "        elif col_a in processed_columns:\n",
    "            columns_to_drop.add(col_b)\n",
    "            processed_columns.add(col_b)\n",
    "        elif col_b in processed_columns:\n",
    "            columns_to_drop.add(col_a)\n",
    "            processed_columns.add(col_a)\n",
    "    \n",
    "    return list(columns_to_drop)\n",
    "\n",
    "file_path = \"outputs/method-random-important.csv\"\n",
    "columns_to_drop = find_columns_to_drop(file_path, correlation_threshold=0.9)\n",
    "print(\"Columns to drop:\", columns_to_drop)\n"
   ]
  },
  {
   "cell_type": "code",
   "execution_count": 3,
   "metadata": {},
   "outputs": [],
   "source": [
    "empty_cols = ['CD', 'NII', 'NL', 'NLE', 'TCD', 'WarningBlocker', 'WarningCritical', 'WarningMajor', 'WarningMinor', 'Documentation Metric Rules']\n",
    "\n",
    "final_list_90 = empty_cols.copy()\n",
    "final_list_80 = empty_cols.copy()\n",
    "final_list_70 = empty_cols.copy()\n",
    "\n",
    "final_list_90.extend(find_columns_to_drop(file_path, 0.9))\n",
    "final_list_80.extend(find_columns_to_drop(file_path, 0.8))\n",
    "final_list_70.extend(find_columns_to_drop(file_path, 0.7))"
   ]
  },
  {
   "cell_type": "code",
   "execution_count": 9,
   "metadata": {},
   "outputs": [
    {
     "data": {
      "text/plain": [
       "['CD',\n",
       " 'NII',\n",
       " 'NL',\n",
       " 'NLE',\n",
       " 'TCD',\n",
       " 'WarningBlocker',\n",
       " 'WarningCritical',\n",
       " 'WarningMajor',\n",
       " 'WarningMinor',\n",
       " 'Documentation Metric Rules',\n",
       " 'LOC',\n",
       " 'TCLOC',\n",
       " 'NOS',\n",
       " 'TLLOC',\n",
       " 'TNOS',\n",
       " 'DLOC',\n",
       " 'TLOC']"
      ]
     },
     "execution_count": 9,
     "metadata": {},
     "output_type": "execute_result"
    }
   ],
   "source": [
    "final_list_90"
   ]
  },
  {
   "cell_type": "code",
   "execution_count": 5,
   "metadata": {},
   "outputs": [
    {
     "data": {
      "text/plain": [
       "['CD',\n",
       " 'NII',\n",
       " 'NL',\n",
       " 'NLE',\n",
       " 'TCD',\n",
       " 'WarningBlocker',\n",
       " 'WarningCritical',\n",
       " 'WarningMajor',\n",
       " 'WarningMinor',\n",
       " 'Documentation Metric Rules',\n",
       " 'LOC',\n",
       " 'TCLOC',\n",
       " 'NOS',\n",
       " 'McCC',\n",
       " 'TLLOC',\n",
       " 'TNOS',\n",
       " 'DLOC',\n",
       " 'Size Metric Rules',\n",
       " 'TLOC']"
      ]
     },
     "execution_count": 5,
     "metadata": {},
     "output_type": "execute_result"
    }
   ],
   "source": [
    "final_list_80"
   ]
  },
  {
   "cell_type": "code",
   "execution_count": 6,
   "metadata": {},
   "outputs": [
    {
     "data": {
      "text/plain": [
       "['CD',\n",
       " 'NII',\n",
       " 'NL',\n",
       " 'NLE',\n",
       " 'TCD',\n",
       " 'WarningBlocker',\n",
       " 'WarningCritical',\n",
       " 'WarningMajor',\n",
       " 'WarningMinor',\n",
       " 'Documentation Metric Rules',\n",
       " 'LOC',\n",
       " 'TCLOC',\n",
       " 'NOS',\n",
       " 'Complexity Metric Rules',\n",
       " 'WarningInfo',\n",
       " 'McCC',\n",
       " 'TLLOC',\n",
       " 'Anti Pattern',\n",
       " 'TNOS',\n",
       " 'DLOC',\n",
       " 'Size Metric Rules',\n",
       " 'TLOC']"
      ]
     },
     "execution_count": 6,
     "metadata": {},
     "output_type": "execute_result"
    }
   ],
   "source": [
    "final_list_70"
   ]
  },
  {
   "cell_type": "code",
   "execution_count": 7,
   "metadata": {},
   "outputs": [
    {
     "name": "stdout",
     "output_type": "stream",
     "text": [
      "With threshold 0.9 we drop 17 columns, with threshold 0.8 we drop 19 columns, with threshold 0.7 we drop 22 columns.\n"
     ]
    }
   ],
   "source": [
    "print(f\"With threshold 0.9 we drop {len(final_list_90)} columns, with threshold 0.8 we drop {len(final_list_80)} columns, with threshold 0.7 we drop {len(final_list_70)} columns.\")"
   ]
  },
  {
   "cell_type": "code",
   "execution_count": 10,
   "metadata": {},
   "outputs": [
    {
     "data": {
      "text/plain": [
       "['McCC', 'Size Metric Rules']"
      ]
     },
     "execution_count": 10,
     "metadata": {},
     "output_type": "execute_result"
    }
   ],
   "source": [
    "[x for x in final_list_80 if x not in final_list_90]"
   ]
  },
  {
   "cell_type": "code",
   "execution_count": 11,
   "metadata": {},
   "outputs": [
    {
     "data": {
      "text/plain": [
       "['Complexity Metric Rules', 'WarningInfo', 'Anti Pattern']"
      ]
     },
     "execution_count": 11,
     "metadata": {},
     "output_type": "execute_result"
    }
   ],
   "source": [
    "[x for x in final_list_70 if x not in final_list_80]"
   ]
  }
 ],
 "metadata": {
  "kernelspec": {
   "display_name": "Python 3",
   "language": "python",
   "name": "python3"
  },
  "language_info": {
   "codemirror_mode": {
    "name": "ipython",
    "version": 3
   },
   "file_extension": ".py",
   "mimetype": "text/x-python",
   "name": "python",
   "nbconvert_exporter": "python",
   "pygments_lexer": "ipython3",
   "version": "3.11.2"
  }
 },
 "nbformat": 4,
 "nbformat_minor": 2
}
