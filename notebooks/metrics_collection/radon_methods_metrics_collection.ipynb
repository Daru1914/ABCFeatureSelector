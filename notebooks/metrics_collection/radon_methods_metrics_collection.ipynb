{
  "cells": [
    {
      "cell_type": "code",
      "execution_count": null,
      "metadata": {
        "id": "r2qSONNVTbnm"
      },
      "outputs": [],
      "source": [
        "from IPython.display import clear_output"
      ]
    },
    {
      "cell_type": "code",
      "execution_count": null,
      "metadata": {
        "id": "j4KYbhcVO_Hm"
      },
      "outputs": [],
      "source": [
        "!sudo apt install python3.8\n",
        "clear_output()"
      ]
    },
    {
      "cell_type": "code",
      "execution_count": null,
      "metadata": {
        "id": "9Oew2AyBVbR3"
      },
      "outputs": [],
      "source": [
        "!pip install radon\n",
        "clear_output()"
      ]
    },
    {
      "cell_type": "code",
      "execution_count": null,
      "metadata": {
        "id": "mo2x1HXUVhJ1"
      },
      "outputs": [],
      "source": [
        "TXT_FILENAME = 'em_repo_stars_part3.txt'\n",
        "with open(TXT_FILENAME) as f:\n",
        "    repos = [line.strip() for line in f.readlines()]"
      ]
    },
    {
      "cell_type": "code",
      "source": [
        "import subprocess\n",
        "from tqdm.notebook import tqdm\n",
        "import os\n",
        "from fnmatch import fnmatch"
      ],
      "metadata": {
        "id": "3KLoKgGIZcSL"
      },
      "execution_count": null,
      "outputs": []
    },
    {
      "cell_type": "code",
      "execution_count": null,
      "metadata": {
        "id": "g8rNTopDVlma"
      },
      "outputs": [],
      "source": [
        "def get_python_filenames(root_dir):\n",
        "    filenames = []\n",
        "    for path, subdirs, files in os.walk(root_dir):\n",
        "        for name in files:\n",
        "            if fnmatch(name, \"*.py\"):\n",
        "                filenames.append(os.path.join(path, name))\n",
        "    return filenames"
      ]
    },
    {
      "cell_type": "code",
      "execution_count": null,
      "metadata": {
        "colab": {
          "base_uri": "https://localhost:8080/",
          "height": 81,
          "referenced_widgets": [
            "98d1e4a9031a4241904796f2f1c3bdb3",
            "f44b2198be744e55b3deaf3868ac7162",
            "0c1a43aa9c5c43e08681bb3d28921a27",
            "5002c99ed5254c0280eebd2c18c29fd7",
            "070ed3309cfa4adda84c8f1a6fa34056",
            "bc604a156508440e909d6e3f5cd01ee1",
            "9c88afcd3b0d401bbb7a9015282be447",
            "546e861b0ed44136b6f691cb98113205",
            "cfe76670127b4e99b7f75996dc121765",
            "b62f332148f345af8d035e0076469334",
            "38a90c5ccffd45de9e150d556174d3d9",
            "75f3bed9c1b147839345146efcb545e9",
            "f85690044d1a4b0a8514a670c500febe",
            "558ee090ca75471bb1aefb3db58e1b08",
            "67cd734cac684482b0bbefa2f1ede25c",
            "55829ecba39341e6bd28981f0e15bcb0",
            "83775112e05a45aaae789491397b4907",
            "ab82953ef0334729a595f23509e3bb7c",
            "412a760d95844ff0a3037fc07c1b886d",
            "8245a6cbaafc483787303dd8e92062b6",
            "144ff7143be648f19612a10b0a32c14a",
            "f47781ae84a842d9b67a6308bd929cdd"
          ]
        },
        "id": "xoAGR6TMVW7D",
        "outputId": "94185486-47b4-4327-9bda-b8ef6f5c89eb"
      },
      "outputs": [
        {
          "output_type": "display_data",
          "data": {
            "text/plain": [
              "  0%|          | 0/1 [00:00<?, ?it/s]"
            ],
            "application/vnd.jupyter.widget-view+json": {
              "version_major": 2,
              "version_minor": 0,
              "model_id": "98d1e4a9031a4241904796f2f1c3bdb3"
            }
          },
          "metadata": {}
        },
        {
          "output_type": "display_data",
          "data": {
            "text/plain": [
              "  0%|          | 0/1690 [00:00<?, ?it/s]"
            ],
            "application/vnd.jupyter.widget-view+json": {
              "version_major": 2,
              "version_minor": 0,
              "model_id": "75f3bed9c1b147839345146efcb545e9"
            }
          },
          "metadata": {}
        }
      ],
      "source": [
        "pbar = tqdm([repos[-1]])\n",
        "for repo in pbar:\n",
        "    # get folder name\n",
        "    folder_name = repo.split('/')[-1]\n",
        "    # get repo name\n",
        "    repo_name = \"_\".join(repo.split('/')[-2:])\n",
        "    pbar.set_description_str(f\"Processing {repo_name}\")\n",
        "    # clone repo\n",
        "    pbar.set_postfix_str(\"Cloning Repository...\")\n",
        "    subprocess.run([\"git\", \"clone\", repo])\n",
        "    # calculate metrics\n",
        "    pbar.set_postfix_str(f\"Running Radon...\")\n",
        "    full_filenames = get_python_filenames(folder_name)\n",
        "    subprocess.run([\"mkdir\", \"-p\", f\"Results/{repo_name}/Halstead/\"])\n",
        "    subprocess.run([\"mkdir\", \"-p\", f\"Results/{repo_name}/MI/\"])\n",
        "    for i, filename in enumerate(tqdm(full_filenames)):\n",
        "        with open(f\"Results/{repo_name}/Halstead/results.jsonl\", 'a') as f:\n",
        "            subprocess.run(\n",
        "                [\"radon\", \"hal\", \"-f\", filename, '-j'],\n",
        "                stdout=f\n",
        "            )\n",
        "        with open(f\"Results/{repo_name}/MI/results.jsonl\", 'a') as f:\n",
        "            subprocess.run(\n",
        "                [\"radon\", \"mi\", filename, '-j'],\n",
        "                stdout=f\n",
        "            )\n",
        "    # # save to gdrive\n",
        "    pbar.set_postfix_str(f\"Saving Results to GDrive...\")\n",
        "    subprocess.run(['zip', '-r', 'RadonResultsPart1.zip', 'Results'])\n",
        "    subprocess.run(['cp', '-r', 'RadonResultsPart1.zip', 'drive/MyDrive'])\n",
        "    subprocess.run(['rm', '-rf', 'RadonResultsPart1.zip'])\n",
        "    # delete repository\n",
        "    pbar.set_postfix_str(f\"Deleting repository...\")\n",
        "    subprocess.run(['rm', '-rf', folder_name])"
      ]
    },
    {
      "cell_type": "code",
      "execution_count": null,
      "metadata": {
        "id": "jkOYV4mryelR"
      },
      "outputs": [],
      "source": [
        "! mv ./Results ./RadonResultsPart1_new"
      ]
    },
    {
      "cell_type": "code",
      "source": [
        "! zip -r \"./RadonResultsPart0_new\" \"./\""
      ],
      "metadata": {
        "id": "oRTOy6AKyDKZ"
      },
      "execution_count": null,
      "outputs": []
    },
    {
      "cell_type": "code",
      "execution_count": null,
      "metadata": {
        "id": "JnfjAMp6nm2i",
        "colab": {
          "base_uri": "https://localhost:8080/"
        },
        "outputId": "d690a0c4-503c-40dc-ba2d-c3d9eb4bf160"
      },
      "outputs": [
        {
          "output_type": "stream",
          "name": "stdout",
          "text": [
            "Archive:  ./RadonResultsPart3_1.zip\n",
            "   creating: ./RadonResultsPart3/Results/\n",
            "   creating: ./RadonResultsPart3/Results/pyecharts_pyecharts/\n",
            "   creating: ./RadonResultsPart3/Results/pyecharts_pyecharts/Halstead/\n",
            "  inflating: ./RadonResultsPart3/Results/pyecharts_pyecharts/Halstead/results.jsonl  \n",
            "   creating: ./RadonResultsPart3/Results/pyecharts_pyecharts/MI/\n",
            "  inflating: ./RadonResultsPart3/Results/pyecharts_pyecharts/MI/results.jsonl  \n",
            "   creating: ./RadonResultsPart3/Results/aleju_imgaug/\n",
            "   creating: ./RadonResultsPart3/Results/aleju_imgaug/Halstead/\n",
            "  inflating: ./RadonResultsPart3/Results/aleju_imgaug/Halstead/results.jsonl  \n",
            "   creating: ./RadonResultsPart3/Results/aleju_imgaug/MI/\n",
            "  inflating: ./RadonResultsPart3/Results/aleju_imgaug/MI/results.jsonl  \n",
            "   creating: ./RadonResultsPart3/Results/horovod_horovod/\n",
            "   creating: ./RadonResultsPart3/Results/horovod_horovod/Halstead/\n",
            "  inflating: ./RadonResultsPart3/Results/horovod_horovod/Halstead/results.jsonl  \n",
            "   creating: ./RadonResultsPart3/Results/horovod_horovod/MI/\n",
            "  inflating: ./RadonResultsPart3/Results/horovod_horovod/MI/results.jsonl  \n",
            "   creating: ./RadonResultsPart3/Results/lllyasviel_Fooocus/\n",
            "   creating: ./RadonResultsPart3/Results/lllyasviel_Fooocus/Halstead/\n",
            "  inflating: ./RadonResultsPart3/Results/lllyasviel_Fooocus/Halstead/results.jsonl  \n",
            "   creating: ./RadonResultsPart3/Results/lllyasviel_Fooocus/MI/\n",
            "  inflating: ./RadonResultsPart3/Results/lllyasviel_Fooocus/MI/results.jsonl  \n",
            "   creating: ./RadonResultsPart3/Results/ultralytics_ultralytics/\n",
            "   creating: ./RadonResultsPart3/Results/ultralytics_ultralytics/Halstead/\n",
            "  inflating: ./RadonResultsPart3/Results/ultralytics_ultralytics/Halstead/results.jsonl  \n",
            "   creating: ./RadonResultsPart3/Results/ultralytics_ultralytics/MI/\n",
            "  inflating: ./RadonResultsPart3/Results/ultralytics_ultralytics/MI/results.jsonl  \n",
            "   creating: ./RadonResultsPart3/Results/OpenBMB_ChatDev/\n",
            "   creating: ./RadonResultsPart3/Results/OpenBMB_ChatDev/Halstead/\n",
            "  inflating: ./RadonResultsPart3/Results/OpenBMB_ChatDev/Halstead/results.jsonl  \n",
            "   creating: ./RadonResultsPart3/Results/OpenBMB_ChatDev/MI/\n",
            "  inflating: ./RadonResultsPart3/Results/OpenBMB_ChatDev/MI/results.jsonl  \n",
            "   creating: ./RadonResultsPart3/Results/unifyai_ivy/\n",
            "   creating: ./RadonResultsPart3/Results/unifyai_ivy/Halstead/\n",
            "  inflating: ./RadonResultsPart3/Results/unifyai_ivy/Halstead/results.jsonl  \n",
            "   creating: ./RadonResultsPart3/Results/unifyai_ivy/MI/\n",
            "  inflating: ./RadonResultsPart3/Results/unifyai_ivy/MI/results.jsonl  \n",
            "   creating: ./RadonResultsPart3/Results/Rapptz_discord.py/\n",
            "   creating: ./RadonResultsPart3/Results/Rapptz_discord.py/Halstead/\n",
            "  inflating: ./RadonResultsPart3/Results/Rapptz_discord.py/Halstead/results.jsonl  \n",
            "   creating: ./RadonResultsPart3/Results/Rapptz_discord.py/MI/\n",
            "  inflating: ./RadonResultsPart3/Results/Rapptz_discord.py/MI/results.jsonl  \n",
            "   creating: ./RadonResultsPart3/Results/saltstack_salt/\n",
            "   creating: ./RadonResultsPart3/Results/saltstack_salt/Halstead/\n",
            "  inflating: ./RadonResultsPart3/Results/saltstack_salt/Halstead/results.jsonl  \n",
            "   creating: ./RadonResultsPart3/Results/saltstack_salt/MI/\n",
            "  inflating: ./RadonResultsPart3/Results/saltstack_salt/MI/results.jsonl  \n",
            "   creating: ./RadonResultsPart3/Results/gunthercox_ChatterBot/\n",
            "   creating: ./RadonResultsPart3/Results/gunthercox_ChatterBot/Halstead/\n",
            "  inflating: ./RadonResultsPart3/Results/gunthercox_ChatterBot/Halstead/results.jsonl  \n",
            "   creating: ./RadonResultsPart3/Results/gunthercox_ChatterBot/MI/\n",
            "  inflating: ./RadonResultsPart3/Results/gunthercox_ChatterBot/MI/results.jsonl  \n",
            "Archive:  ./RadonResultsPart3_2.zip\n",
            "   creating: ./RadonResultsPart3/Results/comfyanonymous_ComfyUI/\n",
            "   creating: ./RadonResultsPart3/Results/comfyanonymous_ComfyUI/Halstead/\n",
            "  inflating: ./RadonResultsPart3/Results/comfyanonymous_ComfyUI/Halstead/results.jsonl  \n",
            "   creating: ./RadonResultsPart3/Results/comfyanonymous_ComfyUI/MI/\n",
            "  inflating: ./RadonResultsPart3/Results/comfyanonymous_ComfyUI/MI/results.jsonl  \n",
            "   creating: ./RadonResultsPart3/Results/microsoft_nni/\n",
            "   creating: ./RadonResultsPart3/Results/microsoft_nni/Halstead/\n",
            "  inflating: ./RadonResultsPart3/Results/microsoft_nni/Halstead/results.jsonl  \n",
            "   creating: ./RadonResultsPart3/Results/microsoft_nni/MI/\n",
            "  inflating: ./RadonResultsPart3/Results/microsoft_nni/MI/results.jsonl  \n",
            "   creating: ./RadonResultsPart3/Results/mlc-ai_mlc-llm/\n",
            "   creating: ./RadonResultsPart3/Results/mlc-ai_mlc-llm/Halstead/\n",
            "  inflating: ./RadonResultsPart3/Results/mlc-ai_mlc-llm/Halstead/results.jsonl  \n",
            "   creating: ./RadonResultsPart3/Results/mlc-ai_mlc-llm/MI/\n",
            "  inflating: ./RadonResultsPart3/Results/mlc-ai_mlc-llm/MI/results.jsonl  \n",
            "   creating: ./RadonResultsPart3/Results/Mikubill_sd-webui-controlnet/\n",
            "   creating: ./RadonResultsPart3/Results/Mikubill_sd-webui-controlnet/Halstead/\n",
            "  inflating: ./RadonResultsPart3/Results/Mikubill_sd-webui-controlnet/Halstead/results.jsonl  \n",
            "   creating: ./RadonResultsPart3/Results/Mikubill_sd-webui-controlnet/MI/\n",
            "  inflating: ./RadonResultsPart3/Results/Mikubill_sd-webui-controlnet/MI/results.jsonl  \n",
            "   creating: ./RadonResultsPart3/Results/reflex-dev_reflex/\n",
            "   creating: ./RadonResultsPart3/Results/reflex-dev_reflex/Halstead/\n",
            "  inflating: ./RadonResultsPart3/Results/reflex-dev_reflex/Halstead/results.jsonl  \n",
            "   creating: ./RadonResultsPart3/Results/reflex-dev_reflex/MI/\n",
            "  inflating: ./RadonResultsPart3/Results/reflex-dev_reflex/MI/results.jsonl  \n",
            "   creating: ./RadonResultsPart3/Results/spotDL_spotify-downloader/\n",
            "   creating: ./RadonResultsPart3/Results/spotDL_spotify-downloader/Halstead/\n",
            "  inflating: ./RadonResultsPart3/Results/spotDL_spotify-downloader/Halstead/results.jsonl  \n",
            "   creating: ./RadonResultsPart3/Results/spotDL_spotify-downloader/MI/\n",
            "  inflating: ./RadonResultsPart3/Results/spotDL_spotify-downloader/MI/results.jsonl  \n",
            "   creating: ./RadonResultsPart3/Results/networkx_networkx/\n",
            "   creating: ./RadonResultsPart3/Results/networkx_networkx/Halstead/\n",
            "  inflating: ./RadonResultsPart3/Results/networkx_networkx/Halstead/results.jsonl  \n",
            "   creating: ./RadonResultsPart3/Results/networkx_networkx/MI/\n",
            "  inflating: ./RadonResultsPart3/Results/networkx_networkx/MI/results.jsonl  \n",
            "   creating: ./RadonResultsPart3/Results/pyodide_pyodide/\n",
            "   creating: ./RadonResultsPart3/Results/pyodide_pyodide/Halstead/\n",
            "  inflating: ./RadonResultsPart3/Results/pyodide_pyodide/Halstead/results.jsonl  \n",
            "   creating: ./RadonResultsPart3/Results/pyodide_pyodide/MI/\n",
            "  inflating: ./RadonResultsPart3/Results/pyodide_pyodide/MI/results.jsonl  \n",
            "   creating: ./RadonResultsPart3/Results/flairNLP_flair/\n",
            "   creating: ./RadonResultsPart3/Results/flairNLP_flair/Halstead/\n",
            "  inflating: ./RadonResultsPart3/Results/flairNLP_flair/Halstead/results.jsonl  \n",
            "   creating: ./RadonResultsPart3/Results/flairNLP_flair/MI/\n",
            "  inflating: ./RadonResultsPart3/Results/flairNLP_flair/MI/results.jsonl  \n",
            "   creating: ./RadonResultsPart3/Results/PrefectHQ_prefect/\n",
            "   creating: ./RadonResultsPart3/Results/PrefectHQ_prefect/Halstead/\n",
            "  inflating: ./RadonResultsPart3/Results/PrefectHQ_prefect/Halstead/results.jsonl  \n",
            "   creating: ./RadonResultsPart3/Results/PrefectHQ_prefect/MI/\n",
            "  inflating: ./RadonResultsPart3/Results/PrefectHQ_prefect/MI/results.jsonl  \n",
            "Archive:  ./RadonResultsPart3_3.zip\n",
            "replace ./RadonResultsPart3/Results/spotDL_spotify-downloader/Halstead/results.jsonl? [y]es, [n]o, [A]ll, [N]one, [r]ename: A\n",
            "  inflating: ./RadonResultsPart3/Results/spotDL_spotify-downloader/Halstead/results.jsonl  \n",
            "  inflating: ./RadonResultsPart3/Results/spotDL_spotify-downloader/MI/results.jsonl  \n",
            "  inflating: ./RadonResultsPart3/Results/pyodide_pyodide/Halstead/results.jsonl  \n",
            "  inflating: ./RadonResultsPart3/Results/pyodide_pyodide/MI/results.jsonl  \n",
            "  inflating: ./RadonResultsPart3/Results/flairNLP_flair/Halstead/results.jsonl  \n",
            "  inflating: ./RadonResultsPart3/Results/flairNLP_flair/MI/results.jsonl  \n",
            "  inflating: ./RadonResultsPart3/Results/PrefectHQ_prefect/Halstead/results.jsonl  \n",
            "  inflating: ./RadonResultsPart3/Results/PrefectHQ_prefect/MI/results.jsonl  \n",
            "Archive:  ./RadonResultsPart3_4.zip\n",
            "   creating: ./RadonResultsPart3/ResultNew/\n",
            "   creating: ./RadonResultsPart3/ResultNew/PaddlePaddle_PaddleNLP/\n",
            "   creating: ./RadonResultsPart3/ResultNew/PaddlePaddle_PaddleNLP/Halstead/\n",
            "  inflating: ./RadonResultsPart3/ResultNew/PaddlePaddle_PaddleNLP/Halstead/results.jsonl  \n",
            "   creating: ./RadonResultsPart3/ResultNew/PaddlePaddle_PaddleNLP/MI/\n",
            "  inflating: ./RadonResultsPart3/ResultNew/PaddlePaddle_PaddleNLP/MI/results.jsonl  \n",
            "   creating: ./RadonResultsPart3/ResultNew/facebookresearch_ParlAI/\n",
            "   creating: ./RadonResultsPart3/ResultNew/facebookresearch_ParlAI/Halstead/\n",
            "  inflating: ./RadonResultsPart3/ResultNew/facebookresearch_ParlAI/Halstead/results.jsonl  \n",
            "   creating: ./RadonResultsPart3/ResultNew/facebookresearch_ParlAI/MI/\n",
            "  inflating: ./RadonResultsPart3/ResultNew/facebookresearch_ParlAI/MI/results.jsonl  \n",
            "   creating: ./RadonResultsPart3/ResultNew/ludwig-ai_ludwig/\n",
            "   creating: ./RadonResultsPart3/ResultNew/ludwig-ai_ludwig/Halstead/\n",
            "  inflating: ./RadonResultsPart3/ResultNew/ludwig-ai_ludwig/Halstead/results.jsonl  \n",
            "   creating: ./RadonResultsPart3/ResultNew/ludwig-ai_ludwig/MI/\n",
            "  inflating: ./RadonResultsPart3/ResultNew/ludwig-ai_ludwig/MI/results.jsonl  \n",
            "   creating: ./RadonResultsPart3/ResultNew/.ipynb_checkpoints/\n",
            "   creating: ./RadonResultsPart3/ResultNew/twitter_the-algorithm-ml/\n",
            "   creating: ./RadonResultsPart3/ResultNew/twitter_the-algorithm-ml/Halstead/\n",
            "  inflating: ./RadonResultsPart3/ResultNew/twitter_the-algorithm-ml/Halstead/results.jsonl  \n",
            "   creating: ./RadonResultsPart3/ResultNew/twitter_the-algorithm-ml/MI/\n",
            "  inflating: ./RadonResultsPart3/ResultNew/twitter_the-algorithm-ml/MI/results.jsonl  \n",
            "   creating: ./RadonResultsPart3/ResultNew/pyodide_pyodide/\n",
            "   creating: ./RadonResultsPart3/ResultNew/pyodide_pyodide/Halstead/\n",
            "  inflating: ./RadonResultsPart3/ResultNew/pyodide_pyodide/Halstead/results.jsonl  \n",
            "   creating: ./RadonResultsPart3/ResultNew/pyodide_pyodide/MI/\n",
            "  inflating: ./RadonResultsPart3/ResultNew/pyodide_pyodide/MI/results.jsonl  \n",
            "   creating: ./RadonResultsPart3/ResultNew/borgbackup_borg/\n",
            "   creating: ./RadonResultsPart3/ResultNew/borgbackup_borg/Halstead/\n",
            "  inflating: ./RadonResultsPart3/ResultNew/borgbackup_borg/Halstead/results.jsonl  \n",
            "   creating: ./RadonResultsPart3/ResultNew/borgbackup_borg/MI/\n",
            "  inflating: ./RadonResultsPart3/ResultNew/borgbackup_borg/MI/results.jsonl  \n",
            "   creating: ./RadonResultsPart3/ResultNew/apache_tvm/\n",
            "   creating: ./RadonResultsPart3/ResultNew/apache_tvm/Halstead/\n",
            "  inflating: ./RadonResultsPart3/ResultNew/apache_tvm/Halstead/results.jsonl  \n",
            "   creating: ./RadonResultsPart3/ResultNew/apache_tvm/MI/\n",
            "  inflating: ./RadonResultsPart3/ResultNew/apache_tvm/MI/results.jsonl  \n",
            "   creating: ./RadonResultsPart3/ResultNew/smicallef_spiderfoot/\n",
            "   creating: ./RadonResultsPart3/ResultNew/smicallef_spiderfoot/Halstead/\n",
            "  inflating: ./RadonResultsPart3/ResultNew/smicallef_spiderfoot/Halstead/results.jsonl  \n",
            "   creating: ./RadonResultsPart3/ResultNew/smicallef_spiderfoot/MI/\n",
            "  inflating: ./RadonResultsPart3/ResultNew/smicallef_spiderfoot/MI/results.jsonl  \n",
            "   creating: ./RadonResultsPart3/ResultNew/Nuitka_Nuitka/\n",
            "   creating: ./RadonResultsPart3/ResultNew/Nuitka_Nuitka/Halstead/\n",
            "  inflating: ./RadonResultsPart3/ResultNew/Nuitka_Nuitka/Halstead/results.jsonl  \n",
            "   creating: ./RadonResultsPart3/ResultNew/Nuitka_Nuitka/MI/\n",
            "  inflating: ./RadonResultsPart3/ResultNew/Nuitka_Nuitka/MI/results.jsonl  \n"
          ]
        }
      ],
      "source": [
        "! unzip \"./RadonResultsPart3_1.zip\" -d \"./RadonResultsPart3\"\n",
        "! unzip \"./RadonResultsPart3_2.zip\" -d \"./RadonResultsPart3\"\n",
        "! unzip \"./RadonResultsPart3_3.zip\" -d \"./RadonResultsPart3\"\n",
        "! unzip \"./RadonResultsPart3_4.zip\" -d \"./RadonResultsPart3\""
      ]
    },
    {
      "cell_type": "code",
      "source": [
        "! rm -rf /content/RadonResultsPart3/Results/pyodide_pyodide\n",
        "! mv -v /content/RadonResultsPart3/ResultNew/* /content/RadonResultsPart3/Results/"
      ],
      "metadata": {
        "colab": {
          "base_uri": "https://localhost:8080/"
        },
        "id": "YEzYTm7YvDO3",
        "outputId": "690512eb-cab3-47b3-a6e4-fb3ec10ccd79"
      },
      "execution_count": null,
      "outputs": [
        {
          "output_type": "stream",
          "name": "stdout",
          "text": [
            "renamed '/content/RadonResultsPart3/ResultNew/apache_tvm' -> '/content/RadonResultsPart3/Results/apache_tvm'\n",
            "renamed '/content/RadonResultsPart3/ResultNew/borgbackup_borg' -> '/content/RadonResultsPart3/Results/borgbackup_borg'\n",
            "renamed '/content/RadonResultsPart3/ResultNew/facebookresearch_ParlAI' -> '/content/RadonResultsPart3/Results/facebookresearch_ParlAI'\n",
            "renamed '/content/RadonResultsPart3/ResultNew/ludwig-ai_ludwig' -> '/content/RadonResultsPart3/Results/ludwig-ai_ludwig'\n",
            "renamed '/content/RadonResultsPart3/ResultNew/Nuitka_Nuitka' -> '/content/RadonResultsPart3/Results/Nuitka_Nuitka'\n",
            "renamed '/content/RadonResultsPart3/ResultNew/PaddlePaddle_PaddleNLP' -> '/content/RadonResultsPart3/Results/PaddlePaddle_PaddleNLP'\n",
            "renamed '/content/RadonResultsPart3/ResultNew/pyodide_pyodide' -> '/content/RadonResultsPart3/Results/pyodide_pyodide'\n",
            "renamed '/content/RadonResultsPart3/ResultNew/smicallef_spiderfoot' -> '/content/RadonResultsPart3/Results/smicallef_spiderfoot'\n",
            "renamed '/content/RadonResultsPart3/ResultNew/twitter_the-algorithm-ml' -> '/content/RadonResultsPart3/Results/twitter_the-algorithm-ml'\n"
          ]
        }
      ]
    },
    {
      "cell_type": "code",
      "execution_count": null,
      "metadata": {
        "id": "tvBQrDdt-uzL"
      },
      "outputs": [],
      "source": [
        "import json\n",
        "import os\n",
        "\n",
        "def convert_jsonl_to_json(input_jsonl_file, output_json_file):\n",
        "    # Ensure the output folder exists\n",
        "    output_json_folder = \"/\".join(output_json_file.split('/')[:4])\n",
        "    print(output_json_folder)\n",
        "    os.makedirs(output_json_folder, exist_ok=True)\n",
        "\n",
        "    # Determine the output JSON filename\n",
        "    output_json_file = os.path.join(output_json_file + '.json')\n",
        "    # Read the JSONL file and aggregate the data\n",
        "    data = []\n",
        "    with open(input_jsonl_file, 'r') as jsonl_file:\n",
        "        for line_number, line in enumerate(jsonl_file, start=1):\n",
        "            line = line.strip()\n",
        "            if not line:  # Skip empty lines\n",
        "                continue\n",
        "            try:\n",
        "                data.append(json.loads(line))\n",
        "            except json.JSONDecodeError as e:\n",
        "                print(f\"Error decoding JSON on line {line_number}: {e}\")\n",
        "                continue\n",
        "\n",
        "    # Write to the JSON file\n",
        "    print(output_json_file)\n",
        "    with open(output_json_file, 'w+') as json_file:\n",
        "      json.dump(data, json_file, indent=4)\n",
        "\n",
        "\n",
        "    print(f\"Converted {input_jsonl_file} to {output_json_file}\")"
      ]
    },
    {
      "cell_type": "code",
      "execution_count": null,
      "metadata": {
        "id": "YT2Bm-uNA2En"
      },
      "outputs": [],
      "source": [
        "os.mkdir(\"/content/Radon_Part3_json/\", mode=0o777)"
      ]
    },
    {
      "cell_type": "code",
      "execution_count": null,
      "metadata": {
        "id": "S-Am-5G0hq7Q",
        "colab": {
          "base_uri": "https://localhost:8080/"
        },
        "outputId": "3ec9e867-98de-40e0-dc1e-8e07362a9975"
      },
      "outputs": [
        {
          "output_type": "stream",
          "name": "stdout",
          "text": [
            "/content/RadonResultsPart3/Results/gunthercox_ChatterBot/Halstead/results.jsonl\n",
            "/content/Radon_Part3_json/gunthercox_ChatterBot/Halstead\n",
            "/content/Radon_Part3_json/gunthercox_ChatterBot\n",
            "/content/Radon_Part3_json/gunthercox_ChatterBot/Halstead.json\n",
            "Converted /content/RadonResultsPart3/Results/gunthercox_ChatterBot/Halstead/results.jsonl to /content/Radon_Part3_json/gunthercox_ChatterBot/Halstead.json\n",
            "/content/RadonResultsPart3/Results/gunthercox_ChatterBot/MI/results.jsonl\n",
            "/content/Radon_Part3_json/gunthercox_ChatterBot/MI\n",
            "/content/Radon_Part3_json/gunthercox_ChatterBot\n",
            "/content/Radon_Part3_json/gunthercox_ChatterBot/MI.json\n",
            "Converted /content/RadonResultsPart3/Results/gunthercox_ChatterBot/MI/results.jsonl to /content/Radon_Part3_json/gunthercox_ChatterBot/MI.json\n",
            "/content/RadonResultsPart3/Results/Mikubill_sd-webui-controlnet/Halstead/results.jsonl\n",
            "/content/Radon_Part3_json/Mikubill_sd-webui-controlnet/Halstead\n",
            "/content/Radon_Part3_json/Mikubill_sd-webui-controlnet\n",
            "/content/Radon_Part3_json/Mikubill_sd-webui-controlnet/Halstead.json\n",
            "Converted /content/RadonResultsPart3/Results/Mikubill_sd-webui-controlnet/Halstead/results.jsonl to /content/Radon_Part3_json/Mikubill_sd-webui-controlnet/Halstead.json\n",
            "/content/RadonResultsPart3/Results/Mikubill_sd-webui-controlnet/MI/results.jsonl\n",
            "/content/Radon_Part3_json/Mikubill_sd-webui-controlnet/MI\n",
            "/content/Radon_Part3_json/Mikubill_sd-webui-controlnet\n",
            "/content/Radon_Part3_json/Mikubill_sd-webui-controlnet/MI.json\n",
            "Converted /content/RadonResultsPart3/Results/Mikubill_sd-webui-controlnet/MI/results.jsonl to /content/Radon_Part3_json/Mikubill_sd-webui-controlnet/MI.json\n",
            "/content/RadonResultsPart3/Results/mlc-ai_mlc-llm/Halstead/results.jsonl\n",
            "/content/Radon_Part3_json/mlc-ai_mlc-llm/Halstead\n",
            "/content/Radon_Part3_json/mlc-ai_mlc-llm\n",
            "/content/Radon_Part3_json/mlc-ai_mlc-llm/Halstead.json\n",
            "Converted /content/RadonResultsPart3/Results/mlc-ai_mlc-llm/Halstead/results.jsonl to /content/Radon_Part3_json/mlc-ai_mlc-llm/Halstead.json\n",
            "/content/RadonResultsPart3/Results/mlc-ai_mlc-llm/MI/results.jsonl\n",
            "/content/Radon_Part3_json/mlc-ai_mlc-llm/MI\n",
            "/content/Radon_Part3_json/mlc-ai_mlc-llm\n",
            "/content/Radon_Part3_json/mlc-ai_mlc-llm/MI.json\n",
            "Converted /content/RadonResultsPart3/Results/mlc-ai_mlc-llm/MI/results.jsonl to /content/Radon_Part3_json/mlc-ai_mlc-llm/MI.json\n",
            "/content/RadonResultsPart3/Results/pyecharts_pyecharts/Halstead/results.jsonl\n",
            "/content/Radon_Part3_json/pyecharts_pyecharts/Halstead\n",
            "/content/Radon_Part3_json/pyecharts_pyecharts\n",
            "/content/Radon_Part3_json/pyecharts_pyecharts/Halstead.json\n",
            "Converted /content/RadonResultsPart3/Results/pyecharts_pyecharts/Halstead/results.jsonl to /content/Radon_Part3_json/pyecharts_pyecharts/Halstead.json\n",
            "/content/RadonResultsPart3/Results/pyecharts_pyecharts/MI/results.jsonl\n",
            "/content/Radon_Part3_json/pyecharts_pyecharts/MI\n",
            "/content/Radon_Part3_json/pyecharts_pyecharts\n",
            "/content/Radon_Part3_json/pyecharts_pyecharts/MI.json\n",
            "Converted /content/RadonResultsPart3/Results/pyecharts_pyecharts/MI/results.jsonl to /content/Radon_Part3_json/pyecharts_pyecharts/MI.json\n",
            "/content/RadonResultsPart3/Results/unifyai_ivy/Halstead/results.jsonl\n",
            "/content/Radon_Part3_json/unifyai_ivy/Halstead\n",
            "/content/Radon_Part3_json/unifyai_ivy\n",
            "/content/Radon_Part3_json/unifyai_ivy/Halstead.json\n",
            "Converted /content/RadonResultsPart3/Results/unifyai_ivy/Halstead/results.jsonl to /content/Radon_Part3_json/unifyai_ivy/Halstead.json\n",
            "/content/RadonResultsPart3/Results/unifyai_ivy/MI/results.jsonl\n",
            "/content/Radon_Part3_json/unifyai_ivy/MI\n",
            "/content/Radon_Part3_json/unifyai_ivy\n",
            "/content/Radon_Part3_json/unifyai_ivy/MI.json\n",
            "Converted /content/RadonResultsPart3/Results/unifyai_ivy/MI/results.jsonl to /content/Radon_Part3_json/unifyai_ivy/MI.json\n",
            "/content/RadonResultsPart3/Results/Rapptz_discord.py/Halstead/results.jsonl\n",
            "/content/Radon_Part3_json/Rapptz_discord.py/Halstead\n",
            "/content/Radon_Part3_json/Rapptz_discord.py\n",
            "/content/Radon_Part3_json/Rapptz_discord.py/Halstead.json\n",
            "Converted /content/RadonResultsPart3/Results/Rapptz_discord.py/Halstead/results.jsonl to /content/Radon_Part3_json/Rapptz_discord.py/Halstead.json\n",
            "/content/RadonResultsPart3/Results/Rapptz_discord.py/MI/results.jsonl\n",
            "/content/Radon_Part3_json/Rapptz_discord.py/MI\n",
            "/content/Radon_Part3_json/Rapptz_discord.py\n",
            "/content/Radon_Part3_json/Rapptz_discord.py/MI.json\n",
            "Converted /content/RadonResultsPart3/Results/Rapptz_discord.py/MI/results.jsonl to /content/Radon_Part3_json/Rapptz_discord.py/MI.json\n",
            "/content/RadonResultsPart3/Results/borgbackup_borg/Halstead/results.jsonl\n",
            "/content/Radon_Part3_json/borgbackup_borg/Halstead\n",
            "/content/Radon_Part3_json/borgbackup_borg\n",
            "/content/Radon_Part3_json/borgbackup_borg/Halstead.json\n",
            "Converted /content/RadonResultsPart3/Results/borgbackup_borg/Halstead/results.jsonl to /content/Radon_Part3_json/borgbackup_borg/Halstead.json\n",
            "/content/RadonResultsPart3/Results/borgbackup_borg/MI/results.jsonl\n",
            "/content/Radon_Part3_json/borgbackup_borg/MI\n",
            "/content/Radon_Part3_json/borgbackup_borg\n",
            "/content/Radon_Part3_json/borgbackup_borg/MI.json\n",
            "Converted /content/RadonResultsPart3/Results/borgbackup_borg/MI/results.jsonl to /content/Radon_Part3_json/borgbackup_borg/MI.json\n",
            "/content/RadonResultsPart3/Results/comfyanonymous_ComfyUI/Halstead/results.jsonl\n",
            "/content/Radon_Part3_json/comfyanonymous_ComfyUI/Halstead\n",
            "/content/Radon_Part3_json/comfyanonymous_ComfyUI\n",
            "/content/Radon_Part3_json/comfyanonymous_ComfyUI/Halstead.json\n",
            "Converted /content/RadonResultsPart3/Results/comfyanonymous_ComfyUI/Halstead/results.jsonl to /content/Radon_Part3_json/comfyanonymous_ComfyUI/Halstead.json\n",
            "/content/RadonResultsPart3/Results/comfyanonymous_ComfyUI/MI/results.jsonl\n",
            "/content/Radon_Part3_json/comfyanonymous_ComfyUI/MI\n",
            "/content/Radon_Part3_json/comfyanonymous_ComfyUI\n",
            "/content/Radon_Part3_json/comfyanonymous_ComfyUI/MI.json\n",
            "Converted /content/RadonResultsPart3/Results/comfyanonymous_ComfyUI/MI/results.jsonl to /content/Radon_Part3_json/comfyanonymous_ComfyUI/MI.json\n",
            "/content/RadonResultsPart3/Results/ludwig-ai_ludwig/Halstead/results.jsonl\n",
            "/content/Radon_Part3_json/ludwig-ai_ludwig/Halstead\n",
            "/content/Radon_Part3_json/ludwig-ai_ludwig\n",
            "/content/Radon_Part3_json/ludwig-ai_ludwig/Halstead.json\n",
            "Converted /content/RadonResultsPart3/Results/ludwig-ai_ludwig/Halstead/results.jsonl to /content/Radon_Part3_json/ludwig-ai_ludwig/Halstead.json\n",
            "/content/RadonResultsPart3/Results/ludwig-ai_ludwig/MI/results.jsonl\n",
            "/content/Radon_Part3_json/ludwig-ai_ludwig/MI\n",
            "/content/Radon_Part3_json/ludwig-ai_ludwig\n",
            "/content/Radon_Part3_json/ludwig-ai_ludwig/MI.json\n",
            "Converted /content/RadonResultsPart3/Results/ludwig-ai_ludwig/MI/results.jsonl to /content/Radon_Part3_json/ludwig-ai_ludwig/MI.json\n",
            "/content/RadonResultsPart3/Results/lllyasviel_Fooocus/Halstead/results.jsonl\n",
            "/content/Radon_Part3_json/lllyasviel_Fooocus/Halstead\n",
            "/content/Radon_Part3_json/lllyasviel_Fooocus\n",
            "/content/Radon_Part3_json/lllyasviel_Fooocus/Halstead.json\n",
            "Converted /content/RadonResultsPart3/Results/lllyasviel_Fooocus/Halstead/results.jsonl to /content/Radon_Part3_json/lllyasviel_Fooocus/Halstead.json\n",
            "/content/RadonResultsPart3/Results/lllyasviel_Fooocus/MI/results.jsonl\n",
            "/content/Radon_Part3_json/lllyasviel_Fooocus/MI\n",
            "/content/Radon_Part3_json/lllyasviel_Fooocus\n",
            "/content/Radon_Part3_json/lllyasviel_Fooocus/MI.json\n",
            "Converted /content/RadonResultsPart3/Results/lllyasviel_Fooocus/MI/results.jsonl to /content/Radon_Part3_json/lllyasviel_Fooocus/MI.json\n",
            "/content/RadonResultsPart3/Results/facebookresearch_ParlAI/Halstead/results.jsonl\n",
            "/content/Radon_Part3_json/facebookresearch_ParlAI/Halstead\n",
            "/content/Radon_Part3_json/facebookresearch_ParlAI\n",
            "/content/Radon_Part3_json/facebookresearch_ParlAI/Halstead.json\n",
            "Converted /content/RadonResultsPart3/Results/facebookresearch_ParlAI/Halstead/results.jsonl to /content/Radon_Part3_json/facebookresearch_ParlAI/Halstead.json\n",
            "/content/RadonResultsPart3/Results/facebookresearch_ParlAI/MI/results.jsonl\n",
            "/content/Radon_Part3_json/facebookresearch_ParlAI/MI\n",
            "/content/Radon_Part3_json/facebookresearch_ParlAI\n",
            "/content/Radon_Part3_json/facebookresearch_ParlAI/MI.json\n",
            "Converted /content/RadonResultsPart3/Results/facebookresearch_ParlAI/MI/results.jsonl to /content/Radon_Part3_json/facebookresearch_ParlAI/MI.json\n",
            "/content/RadonResultsPart3/Results/aleju_imgaug/Halstead/results.jsonl\n",
            "/content/Radon_Part3_json/aleju_imgaug/Halstead\n",
            "/content/Radon_Part3_json/aleju_imgaug\n",
            "/content/Radon_Part3_json/aleju_imgaug/Halstead.json\n",
            "Converted /content/RadonResultsPart3/Results/aleju_imgaug/Halstead/results.jsonl to /content/Radon_Part3_json/aleju_imgaug/Halstead.json\n",
            "/content/RadonResultsPart3/Results/aleju_imgaug/MI/results.jsonl\n",
            "/content/Radon_Part3_json/aleju_imgaug/MI\n",
            "/content/Radon_Part3_json/aleju_imgaug\n",
            "/content/Radon_Part3_json/aleju_imgaug/MI.json\n",
            "Converted /content/RadonResultsPart3/Results/aleju_imgaug/MI/results.jsonl to /content/Radon_Part3_json/aleju_imgaug/MI.json\n",
            "/content/RadonResultsPart3/Results/ultralytics_ultralytics/Halstead/results.jsonl\n",
            "/content/Radon_Part3_json/ultralytics_ultralytics/Halstead\n",
            "/content/Radon_Part3_json/ultralytics_ultralytics\n",
            "/content/Radon_Part3_json/ultralytics_ultralytics/Halstead.json\n",
            "Converted /content/RadonResultsPart3/Results/ultralytics_ultralytics/Halstead/results.jsonl to /content/Radon_Part3_json/ultralytics_ultralytics/Halstead.json\n",
            "/content/RadonResultsPart3/Results/ultralytics_ultralytics/MI/results.jsonl\n",
            "/content/Radon_Part3_json/ultralytics_ultralytics/MI\n",
            "/content/Radon_Part3_json/ultralytics_ultralytics\n",
            "/content/Radon_Part3_json/ultralytics_ultralytics/MI.json\n",
            "Converted /content/RadonResultsPart3/Results/ultralytics_ultralytics/MI/results.jsonl to /content/Radon_Part3_json/ultralytics_ultralytics/MI.json\n",
            "/content/RadonResultsPart3/Results/pyodide_pyodide/Halstead/results.jsonl\n",
            "/content/Radon_Part3_json/pyodide_pyodide/Halstead\n",
            "/content/Radon_Part3_json/pyodide_pyodide\n",
            "/content/Radon_Part3_json/pyodide_pyodide/Halstead.json\n",
            "Converted /content/RadonResultsPart3/Results/pyodide_pyodide/Halstead/results.jsonl to /content/Radon_Part3_json/pyodide_pyodide/Halstead.json\n",
            "/content/RadonResultsPart3/Results/pyodide_pyodide/MI/results.jsonl\n",
            "/content/Radon_Part3_json/pyodide_pyodide/MI\n",
            "/content/Radon_Part3_json/pyodide_pyodide\n",
            "/content/Radon_Part3_json/pyodide_pyodide/MI.json\n",
            "Converted /content/RadonResultsPart3/Results/pyodide_pyodide/MI/results.jsonl to /content/Radon_Part3_json/pyodide_pyodide/MI.json\n",
            "/content/RadonResultsPart3/Results/Nuitka_Nuitka/Halstead/results.jsonl\n",
            "/content/Radon_Part3_json/Nuitka_Nuitka/Halstead\n",
            "/content/Radon_Part3_json/Nuitka_Nuitka\n",
            "/content/Radon_Part3_json/Nuitka_Nuitka/Halstead.json\n",
            "Converted /content/RadonResultsPart3/Results/Nuitka_Nuitka/Halstead/results.jsonl to /content/Radon_Part3_json/Nuitka_Nuitka/Halstead.json\n",
            "/content/RadonResultsPart3/Results/Nuitka_Nuitka/MI/results.jsonl\n",
            "/content/Radon_Part3_json/Nuitka_Nuitka/MI\n",
            "/content/Radon_Part3_json/Nuitka_Nuitka\n",
            "/content/Radon_Part3_json/Nuitka_Nuitka/MI.json\n",
            "Converted /content/RadonResultsPart3/Results/Nuitka_Nuitka/MI/results.jsonl to /content/Radon_Part3_json/Nuitka_Nuitka/MI.json\n",
            "/content/RadonResultsPart3/Results/twitter_the-algorithm-ml/Halstead/results.jsonl\n",
            "/content/Radon_Part3_json/twitter_the-algorithm-ml/Halstead\n",
            "/content/Radon_Part3_json/twitter_the-algorithm-ml\n",
            "/content/Radon_Part3_json/twitter_the-algorithm-ml/Halstead.json\n",
            "Converted /content/RadonResultsPart3/Results/twitter_the-algorithm-ml/Halstead/results.jsonl to /content/Radon_Part3_json/twitter_the-algorithm-ml/Halstead.json\n",
            "/content/RadonResultsPart3/Results/twitter_the-algorithm-ml/MI/results.jsonl\n",
            "/content/Radon_Part3_json/twitter_the-algorithm-ml/MI\n",
            "/content/Radon_Part3_json/twitter_the-algorithm-ml\n",
            "/content/Radon_Part3_json/twitter_the-algorithm-ml/MI.json\n",
            "Converted /content/RadonResultsPart3/Results/twitter_the-algorithm-ml/MI/results.jsonl to /content/Radon_Part3_json/twitter_the-algorithm-ml/MI.json\n",
            "/content/RadonResultsPart3/Results/apache_tvm/Halstead/results.jsonl\n",
            "/content/Radon_Part3_json/apache_tvm/Halstead\n",
            "/content/Radon_Part3_json/apache_tvm\n",
            "/content/Radon_Part3_json/apache_tvm/Halstead.json\n",
            "Converted /content/RadonResultsPart3/Results/apache_tvm/Halstead/results.jsonl to /content/Radon_Part3_json/apache_tvm/Halstead.json\n",
            "/content/RadonResultsPart3/Results/apache_tvm/MI/results.jsonl\n",
            "/content/Radon_Part3_json/apache_tvm/MI\n",
            "/content/Radon_Part3_json/apache_tvm\n",
            "/content/Radon_Part3_json/apache_tvm/MI.json\n",
            "Converted /content/RadonResultsPart3/Results/apache_tvm/MI/results.jsonl to /content/Radon_Part3_json/apache_tvm/MI.json\n",
            "/content/RadonResultsPart3/Results/saltstack_salt/Halstead/results.jsonl\n",
            "/content/Radon_Part3_json/saltstack_salt/Halstead\n",
            "/content/Radon_Part3_json/saltstack_salt\n",
            "/content/Radon_Part3_json/saltstack_salt/Halstead.json\n",
            "Converted /content/RadonResultsPart3/Results/saltstack_salt/Halstead/results.jsonl to /content/Radon_Part3_json/saltstack_salt/Halstead.json\n",
            "/content/RadonResultsPart3/Results/saltstack_salt/MI/results.jsonl\n",
            "/content/Radon_Part3_json/saltstack_salt/MI\n",
            "/content/Radon_Part3_json/saltstack_salt\n",
            "/content/Radon_Part3_json/saltstack_salt/MI.json\n",
            "Converted /content/RadonResultsPart3/Results/saltstack_salt/MI/results.jsonl to /content/Radon_Part3_json/saltstack_salt/MI.json\n",
            "/content/RadonResultsPart3/Results/flairNLP_flair/Halstead/results.jsonl\n",
            "/content/Radon_Part3_json/flairNLP_flair/Halstead\n",
            "/content/Radon_Part3_json/flairNLP_flair\n",
            "/content/Radon_Part3_json/flairNLP_flair/Halstead.json\n",
            "Converted /content/RadonResultsPart3/Results/flairNLP_flair/Halstead/results.jsonl to /content/Radon_Part3_json/flairNLP_flair/Halstead.json\n",
            "/content/RadonResultsPart3/Results/flairNLP_flair/MI/results.jsonl\n",
            "/content/Radon_Part3_json/flairNLP_flair/MI\n",
            "/content/Radon_Part3_json/flairNLP_flair\n",
            "/content/Radon_Part3_json/flairNLP_flair/MI.json\n",
            "Converted /content/RadonResultsPart3/Results/flairNLP_flair/MI/results.jsonl to /content/Radon_Part3_json/flairNLP_flair/MI.json\n",
            "/content/RadonResultsPart3/Results/microsoft_nni/Halstead/results.jsonl\n",
            "/content/Radon_Part3_json/microsoft_nni/Halstead\n",
            "/content/Radon_Part3_json/microsoft_nni\n",
            "/content/Radon_Part3_json/microsoft_nni/Halstead.json\n",
            "Converted /content/RadonResultsPart3/Results/microsoft_nni/Halstead/results.jsonl to /content/Radon_Part3_json/microsoft_nni/Halstead.json\n",
            "/content/RadonResultsPart3/Results/microsoft_nni/MI/results.jsonl\n",
            "/content/Radon_Part3_json/microsoft_nni/MI\n",
            "/content/Radon_Part3_json/microsoft_nni\n",
            "/content/Radon_Part3_json/microsoft_nni/MI.json\n",
            "Converted /content/RadonResultsPart3/Results/microsoft_nni/MI/results.jsonl to /content/Radon_Part3_json/microsoft_nni/MI.json\n",
            "/content/RadonResultsPart3/Results/smicallef_spiderfoot/Halstead/results.jsonl\n",
            "/content/Radon_Part3_json/smicallef_spiderfoot/Halstead\n",
            "/content/Radon_Part3_json/smicallef_spiderfoot\n",
            "/content/Radon_Part3_json/smicallef_spiderfoot/Halstead.json\n",
            "Converted /content/RadonResultsPart3/Results/smicallef_spiderfoot/Halstead/results.jsonl to /content/Radon_Part3_json/smicallef_spiderfoot/Halstead.json\n",
            "/content/RadonResultsPart3/Results/smicallef_spiderfoot/MI/results.jsonl\n",
            "/content/Radon_Part3_json/smicallef_spiderfoot/MI\n",
            "/content/Radon_Part3_json/smicallef_spiderfoot\n",
            "/content/Radon_Part3_json/smicallef_spiderfoot/MI.json\n",
            "Converted /content/RadonResultsPart3/Results/smicallef_spiderfoot/MI/results.jsonl to /content/Radon_Part3_json/smicallef_spiderfoot/MI.json\n",
            "/content/RadonResultsPart3/Results/reflex-dev_reflex/Halstead/results.jsonl\n",
            "/content/Radon_Part3_json/reflex-dev_reflex/Halstead\n",
            "/content/Radon_Part3_json/reflex-dev_reflex\n",
            "/content/Radon_Part3_json/reflex-dev_reflex/Halstead.json\n",
            "Converted /content/RadonResultsPart3/Results/reflex-dev_reflex/Halstead/results.jsonl to /content/Radon_Part3_json/reflex-dev_reflex/Halstead.json\n",
            "/content/RadonResultsPart3/Results/reflex-dev_reflex/MI/results.jsonl\n",
            "/content/Radon_Part3_json/reflex-dev_reflex/MI\n",
            "/content/Radon_Part3_json/reflex-dev_reflex\n",
            "/content/Radon_Part3_json/reflex-dev_reflex/MI.json\n",
            "Converted /content/RadonResultsPart3/Results/reflex-dev_reflex/MI/results.jsonl to /content/Radon_Part3_json/reflex-dev_reflex/MI.json\n",
            "/content/RadonResultsPart3/Results/spotDL_spotify-downloader/Halstead/results.jsonl\n",
            "/content/Radon_Part3_json/spotDL_spotify-downloader/Halstead\n",
            "/content/Radon_Part3_json/spotDL_spotify-downloader\n",
            "/content/Radon_Part3_json/spotDL_spotify-downloader/Halstead.json\n",
            "Converted /content/RadonResultsPart3/Results/spotDL_spotify-downloader/Halstead/results.jsonl to /content/Radon_Part3_json/spotDL_spotify-downloader/Halstead.json\n",
            "/content/RadonResultsPart3/Results/spotDL_spotify-downloader/MI/results.jsonl\n",
            "/content/Radon_Part3_json/spotDL_spotify-downloader/MI\n",
            "/content/Radon_Part3_json/spotDL_spotify-downloader\n",
            "/content/Radon_Part3_json/spotDL_spotify-downloader/MI.json\n",
            "Converted /content/RadonResultsPart3/Results/spotDL_spotify-downloader/MI/results.jsonl to /content/Radon_Part3_json/spotDL_spotify-downloader/MI.json\n",
            "/content/RadonResultsPart3/Results/PaddlePaddle_PaddleNLP/Halstead/results.jsonl\n",
            "/content/Radon_Part3_json/PaddlePaddle_PaddleNLP/Halstead\n",
            "/content/Radon_Part3_json/PaddlePaddle_PaddleNLP\n",
            "/content/Radon_Part3_json/PaddlePaddle_PaddleNLP/Halstead.json\n",
            "Converted /content/RadonResultsPart3/Results/PaddlePaddle_PaddleNLP/Halstead/results.jsonl to /content/Radon_Part3_json/PaddlePaddle_PaddleNLP/Halstead.json\n",
            "/content/RadonResultsPart3/Results/PaddlePaddle_PaddleNLP/MI/results.jsonl\n",
            "/content/Radon_Part3_json/PaddlePaddle_PaddleNLP/MI\n",
            "/content/Radon_Part3_json/PaddlePaddle_PaddleNLP\n",
            "/content/Radon_Part3_json/PaddlePaddle_PaddleNLP/MI.json\n",
            "Converted /content/RadonResultsPart3/Results/PaddlePaddle_PaddleNLP/MI/results.jsonl to /content/Radon_Part3_json/PaddlePaddle_PaddleNLP/MI.json\n",
            "/content/RadonResultsPart3/Results/PrefectHQ_prefect/Halstead/results.jsonl\n",
            "/content/Radon_Part3_json/PrefectHQ_prefect/Halstead\n",
            "/content/Radon_Part3_json/PrefectHQ_prefect\n",
            "/content/Radon_Part3_json/PrefectHQ_prefect/Halstead.json\n",
            "Converted /content/RadonResultsPart3/Results/PrefectHQ_prefect/Halstead/results.jsonl to /content/Radon_Part3_json/PrefectHQ_prefect/Halstead.json\n",
            "/content/RadonResultsPart3/Results/PrefectHQ_prefect/MI/results.jsonl\n",
            "/content/Radon_Part3_json/PrefectHQ_prefect/MI\n",
            "/content/Radon_Part3_json/PrefectHQ_prefect\n",
            "/content/Radon_Part3_json/PrefectHQ_prefect/MI.json\n",
            "Converted /content/RadonResultsPart3/Results/PrefectHQ_prefect/MI/results.jsonl to /content/Radon_Part3_json/PrefectHQ_prefect/MI.json\n",
            "/content/RadonResultsPart3/Results/horovod_horovod/Halstead/results.jsonl\n",
            "/content/Radon_Part3_json/horovod_horovod/Halstead\n",
            "/content/Radon_Part3_json/horovod_horovod\n",
            "/content/Radon_Part3_json/horovod_horovod/Halstead.json\n",
            "Converted /content/RadonResultsPart3/Results/horovod_horovod/Halstead/results.jsonl to /content/Radon_Part3_json/horovod_horovod/Halstead.json\n",
            "/content/RadonResultsPart3/Results/horovod_horovod/MI/results.jsonl\n",
            "/content/Radon_Part3_json/horovod_horovod/MI\n",
            "/content/Radon_Part3_json/horovod_horovod\n",
            "/content/Radon_Part3_json/horovod_horovod/MI.json\n",
            "Converted /content/RadonResultsPart3/Results/horovod_horovod/MI/results.jsonl to /content/Radon_Part3_json/horovod_horovod/MI.json\n",
            "/content/RadonResultsPart3/Results/OpenBMB_ChatDev/Halstead/results.jsonl\n",
            "/content/Radon_Part3_json/OpenBMB_ChatDev/Halstead\n",
            "/content/Radon_Part3_json/OpenBMB_ChatDev\n",
            "/content/Radon_Part3_json/OpenBMB_ChatDev/Halstead.json\n",
            "Converted /content/RadonResultsPart3/Results/OpenBMB_ChatDev/Halstead/results.jsonl to /content/Radon_Part3_json/OpenBMB_ChatDev/Halstead.json\n",
            "/content/RadonResultsPart3/Results/OpenBMB_ChatDev/MI/results.jsonl\n",
            "/content/Radon_Part3_json/OpenBMB_ChatDev/MI\n",
            "/content/Radon_Part3_json/OpenBMB_ChatDev\n",
            "/content/Radon_Part3_json/OpenBMB_ChatDev/MI.json\n",
            "Converted /content/RadonResultsPart3/Results/OpenBMB_ChatDev/MI/results.jsonl to /content/Radon_Part3_json/OpenBMB_ChatDev/MI.json\n",
            "/content/RadonResultsPart3/Results/networkx_networkx/Halstead/results.jsonl\n",
            "/content/Radon_Part3_json/networkx_networkx/Halstead\n",
            "/content/Radon_Part3_json/networkx_networkx\n",
            "/content/Radon_Part3_json/networkx_networkx/Halstead.json\n",
            "Converted /content/RadonResultsPart3/Results/networkx_networkx/Halstead/results.jsonl to /content/Radon_Part3_json/networkx_networkx/Halstead.json\n",
            "/content/RadonResultsPart3/Results/networkx_networkx/MI/results.jsonl\n",
            "/content/Radon_Part3_json/networkx_networkx/MI\n",
            "/content/Radon_Part3_json/networkx_networkx\n",
            "/content/Radon_Part3_json/networkx_networkx/MI.json\n",
            "Converted /content/RadonResultsPart3/Results/networkx_networkx/MI/results.jsonl to /content/Radon_Part3_json/networkx_networkx/MI.json\n"
          ]
        }
      ],
      "source": [
        "from pathlib import Path, PurePath\n",
        "import glob\n",
        "import shutil\n",
        "\n",
        "dirs = os.listdir(\"/content/RadonResultsPart3/Results/\")\n",
        "# for dir in dirs:\n",
        "  # os.mkdir(\"/content/Radon_Part1_json/\"+dir, mode=0o777)\n",
        "\n",
        "for file in glob.glob(r'/content/RadonResultsPart3/Results/*/*/results.jsonl'):\n",
        "    print(file)\n",
        "    if os.path.isfile(file):\n",
        "        new_name = \"/content/Radon_Part3_json/\" + file.removeprefix(\"/content/RadonResultsPart3/Results/\").removesuffix(\"/results.jsonl\")\n",
        "        print(new_name)\n",
        "        convert_jsonl_to_json(file, new_name)\n",
        "        shutil.copy(file, \"/content/Radon_Part3_json/\")\n",
        "    else:\n",
        "        print(\"fail\")"
      ]
    },
    {
      "cell_type": "code",
      "execution_count": null,
      "metadata": {
        "id": "jcapYwDDpTBJ"
      },
      "outputs": [],
      "source": [
        "# ! find . -name '*_MI.json' -delete"
      ]
    },
    {
      "cell_type": "code",
      "execution_count": null,
      "metadata": {
        "id": "Aae2SSq0tF3l"
      },
      "outputs": [],
      "source": [
        "import pandas as pd\n",
        "import json\n",
        "import csv\n",
        "import os\n",
        "import seaborn as sns\n",
        "from tqdm import tqdm"
      ]
    },
    {
      "cell_type": "code",
      "execution_count": null,
      "metadata": {
        "id": "mWL8K3pgtJaq"
      },
      "outputs": [],
      "source": [
        "def get_metric_column_name(metric='all'):\n",
        "  metrics_columns = {\n",
        "    'name': 'name',\n",
        "    'path': 'path',\n",
        "    'HCPL': 'calculated_length',\n",
        "    'HDIF': 'difficulty',\n",
        "    'HEFF': 'effort',\n",
        "    'HNDB': 'bugs',\n",
        "    'HPL':  'length',\n",
        "    'HPV':  'vocabulary',\n",
        "    'HTRP': 'time',\n",
        "    'HVOL': 'volume',\n",
        "  }\n",
        "  if metric=='all':\n",
        "    return list(metrics_columns.keys())\n",
        "  if metrics_columns.get(metric):\n",
        "    return metrics_columns[metric]\n",
        "  else:\n",
        "    return None"
      ]
    },
    {
      "cell_type": "code",
      "execution_count": null,
      "metadata": {
        "id": "lPmiJrt4Vx7c"
      },
      "outputs": [],
      "source": [
        "! rm -rf /content/Radon_Part2_Methods"
      ]
    },
    {
      "cell_type": "code",
      "execution_count": null,
      "metadata": {
        "id": "P4KdJFUFDpQN",
        "colab": {
          "base_uri": "https://localhost:8080/",
          "height": 141
        },
        "outputId": "4b67fd3c-e01d-4e93-b8ac-6ee70670686b"
      },
      "outputs": [
        {
          "output_type": "error",
          "ename": "FileExistsError",
          "evalue": "[Errno 17] File exists: '/content/Radon_Part3_Methods/'",
          "traceback": [
            "\u001b[0;31m---------------------------------------------------------------------------\u001b[0m",
            "\u001b[0;31mFileExistsError\u001b[0m                           Traceback (most recent call last)",
            "\u001b[0;32m<ipython-input-127-cb7e14b2aba1>\u001b[0m in \u001b[0;36m<cell line: 1>\u001b[0;34m()\u001b[0m\n\u001b[0;32m----> 1\u001b[0;31m \u001b[0mos\u001b[0m\u001b[0;34m.\u001b[0m\u001b[0mmkdir\u001b[0m\u001b[0;34m(\u001b[0m\u001b[0;34m\"/content/Radon_Part3_Methods/\"\u001b[0m\u001b[0;34m,\u001b[0m \u001b[0mmode\u001b[0m\u001b[0;34m=\u001b[0m\u001b[0;36m0o777\u001b[0m\u001b[0;34m)\u001b[0m\u001b[0;34m\u001b[0m\u001b[0;34m\u001b[0m\u001b[0m\n\u001b[0m",
            "\u001b[0;31mFileExistsError\u001b[0m: [Errno 17] File exists: '/content/Radon_Part3_Methods/'"
          ]
        }
      ],
      "source": [
        "os.mkdir(\"/content/Radon_Part3_Methods/\", mode=0o777)"
      ]
    },
    {
      "cell_type": "code",
      "execution_count": null,
      "metadata": {
        "id": "f2dtleaH5FjW"
      },
      "outputs": [],
      "source": [
        "def json_to_csv(repo_metrics_path):\n",
        "    with open(f'{repo_metrics_path}/Halstead.json') as f:\n",
        "        data_halstead = json.load(f)\n",
        "\n",
        "    repo_name = repo_metrics_path.removeprefix(\"/content/Radon_Part3_json/\")\n",
        "    metrics_columns = get_metric_column_name()\n",
        "\n",
        "    data_file = open(f'/content/Radon_Part3_Methods/{repo_name}-Methods.csv', 'w')\n",
        "    csv_writer = csv.writer(data_file)\n",
        "    csv_writer.writerow(metrics_columns)\n",
        "\n",
        "    for path in data_halstead:\n",
        "      if bool(path.values()):\n",
        "        methods = list(path.values())[0].get(\"functions\")\n",
        "        if bool(methods):\n",
        "          for method_metrics in methods.items():\n",
        "            row = []\n",
        "            for column in metrics_columns:\n",
        "              if column == \"name\":\n",
        "                row.append(method_metrics[0])\n",
        "              elif column == \"path\":\n",
        "                row.append(list(path.keys())[0]+\"\")\n",
        "              else:\n",
        "                row.append(method_metrics[1][get_metric_column_name(column)])\n",
        "            csv_writer.writerow(row)\n",
        "\n",
        "    data_file.close()"
      ]
    },
    {
      "cell_type": "code",
      "execution_count": null,
      "metadata": {
        "colab": {
          "base_uri": "https://localhost:8080/"
        },
        "id": "0WxHQ8XBuHZ5",
        "outputId": "9f46f382-c3f5-4435-8195-3a70a1b5df9c"
      },
      "outputs": [
        {
          "output_type": "stream",
          "name": "stderr",
          "text": [
            "  7%|▋         | 2/28 [00:00<00:02, 11.45it/s]"
          ]
        },
        {
          "output_type": "stream",
          "name": "stdout",
          "text": [
            "/content/Radon_Part3_json/gunthercox_ChatterBot\n",
            "/content/Radon_Part3_json/Mikubill_sd-webui-controlnet\n",
            "/content/Radon_Part3_json/mlc-ai_mlc-llm\n",
            "/content/Radon_Part3_json/pyecharts_pyecharts\n",
            "/content/Radon_Part3_json/unifyai_ivy\n"
          ]
        },
        {
          "output_type": "stream",
          "name": "stderr",
          "text": [
            " 25%|██▌       | 7/28 [00:00<00:02,  8.78it/s]"
          ]
        },
        {
          "output_type": "stream",
          "name": "stdout",
          "text": [
            "/content/Radon_Part3_json/Rapptz_discord.py\n",
            "/content/Radon_Part3_json/borgbackup_borg\n",
            "/content/Radon_Part3_json/comfyanonymous_ComfyUI\n",
            "/content/Radon_Part3_json/ludwig-ai_ludwig\n"
          ]
        },
        {
          "output_type": "stream",
          "name": "stderr",
          "text": [
            " 39%|███▉      | 11/28 [00:01<00:01, 11.26it/s]"
          ]
        },
        {
          "output_type": "stream",
          "name": "stdout",
          "text": [
            "/content/Radon_Part3_json/lllyasviel_Fooocus\n",
            "/content/Radon_Part3_json/facebookresearch_ParlAI\n",
            "/content/Radon_Part3_json/aleju_imgaug\n"
          ]
        },
        {
          "output_type": "stream",
          "name": "stderr",
          "text": [
            "\r 46%|████▋     | 13/28 [00:01<00:01, 12.24it/s]"
          ]
        },
        {
          "output_type": "stream",
          "name": "stdout",
          "text": [
            "/content/Radon_Part3_json/ultralytics_ultralytics\n",
            "/content/Radon_Part3_json/pyodide_pyodide\n",
            "/content/Radon_Part3_json/Nuitka_Nuitka\n"
          ]
        },
        {
          "output_type": "stream",
          "name": "stderr",
          "text": [
            "\r 54%|█████▎    | 15/28 [00:01<00:01,  8.86it/s]"
          ]
        },
        {
          "output_type": "stream",
          "name": "stdout",
          "text": [
            "/content/Radon_Part3_json/twitter_the-algorithm-ml\n",
            "/content/Radon_Part3_json/apache_tvm\n"
          ]
        },
        {
          "output_type": "stream",
          "name": "stderr",
          "text": [
            "\r 61%|██████    | 17/28 [00:01<00:01,  7.07it/s]"
          ]
        },
        {
          "output_type": "stream",
          "name": "stdout",
          "text": [
            "/content/Radon_Part3_json/saltstack_salt\n"
          ]
        },
        {
          "output_type": "stream",
          "name": "stderr",
          "text": [
            " 71%|███████▏  | 20/28 [00:02<00:01,  5.03it/s]"
          ]
        },
        {
          "output_type": "stream",
          "name": "stdout",
          "text": [
            "/content/Radon_Part3_json/flairNLP_flair\n",
            "/content/Radon_Part3_json/microsoft_nni\n",
            "/content/Radon_Part3_json/smicallef_spiderfoot\n",
            "/content/Radon_Part3_json/reflex-dev_reflex\n",
            "/content/Radon_Part3_json/spotDL_spotify-downloader\n",
            "/content/Radon_Part3_json/PaddlePaddle_PaddleNLP\n"
          ]
        },
        {
          "output_type": "stream",
          "name": "stderr",
          "text": [
            " 89%|████████▉ | 25/28 [00:03<00:00,  6.65it/s]"
          ]
        },
        {
          "output_type": "stream",
          "name": "stdout",
          "text": [
            "/content/Radon_Part3_json/PrefectHQ_prefect\n",
            "/content/Radon_Part3_json/horovod_horovod\n"
          ]
        },
        {
          "output_type": "stream",
          "name": "stderr",
          "text": [
            "100%|██████████| 28/28 [00:03<00:00,  7.57it/s]"
          ]
        },
        {
          "output_type": "stream",
          "name": "stdout",
          "text": [
            "/content/Radon_Part3_json/OpenBMB_ChatDev\n",
            "/content/Radon_Part3_json/networkx_networkx\n"
          ]
        },
        {
          "output_type": "stream",
          "name": "stderr",
          "text": [
            "\n"
          ]
        }
      ],
      "source": [
        "repo_metrics_paths = glob.glob(\"/content/Radon_Part3_json/*\")\n",
        "for path in tqdm(repo_metrics_paths):\n",
        "  print(path)\n",
        "  json_to_csv(path)"
      ]
    },
    {
      "cell_type": "code",
      "execution_count": null,
      "metadata": {
        "colab": {
          "base_uri": "https://localhost:8080/"
        },
        "id": "U_ABTgylOK5o",
        "outputId": "10c99af7-c023-455d-ccf5-bffef1a96efa"
      },
      "outputs": [
        {
          "output_type": "stream",
          "name": "stdout",
          "text": [
            "  adding: Radon_Part3_Methods/ (stored 0%)\n",
            "  adding: Radon_Part3_Methods/saltstack_salt-Methods.csv (deflated 87%)\n",
            "  adding: Radon_Part3_Methods/horovod_horovod-Methods.csv (deflated 84%)\n",
            "  adding: Radon_Part3_Methods/twitter_the-algorithm-ml-Methods.csv (deflated 81%)\n",
            "  adding: Radon_Part3_Methods/Nuitka_Nuitka-Methods.csv (deflated 87%)\n",
            "  adding: Radon_Part3_Methods/borgbackup_borg-Methods.csv (deflated 83%)\n",
            "  adding: Radon_Part3_Methods/ludwig-ai_ludwig-Methods.csv (deflated 85%)\n",
            "  adding: Radon_Part3_Methods/pyodide_pyodide-Methods.csv (deflated 83%)\n",
            "  adding: Radon_Part3_Methods/networkx_networkx-Methods.csv (deflated 86%)\n",
            "  adding: Radon_Part3_Methods/pyecharts_pyecharts-Methods.csv (deflated 87%)\n",
            "  adding: Radon_Part3_Methods/reflex-dev_reflex-Methods.csv (deflated 86%)\n",
            "  adding: Radon_Part3_Methods/flairNLP_flair-Methods.csv (deflated 82%)\n",
            "  adding: Radon_Part3_Methods/microsoft_nni-Methods.csv (deflated 84%)\n",
            "  adding: Radon_Part3_Methods/unifyai_ivy-Methods.csv (deflated 87%)\n",
            "  adding: Radon_Part3_Methods/Rapptz_discord.py-Methods.csv (deflated 87%)\n",
            "  adding: Radon_Part3_Methods/smicallef_spiderfoot-Methods.csv (deflated 87%)\n",
            "  adding: Radon_Part3_Methods/Mikubill_sd-webui-controlnet-Methods.csv (deflated 85%)\n",
            "  adding: Radon_Part3_Methods/apache_tvm-Methods.csv (deflated 84%)\n",
            "  adding: Radon_Part3_Methods/ultralytics_ultralytics-Methods.csv (deflated 81%)\n",
            "  adding: Radon_Part3_Methods/facebookresearch_ParlAI-Methods.csv (deflated 84%)\n",
            "  adding: Radon_Part3_Methods/spotDL_spotify-downloader-Methods.csv (deflated 81%)\n",
            "  adding: Radon_Part3_Methods/lllyasviel_Fooocus-Methods.csv (deflated 80%)\n",
            "  adding: Radon_Part3_Methods/gunthercox_ChatterBot-Methods.csv (deflated 88%)\n",
            "  adding: Radon_Part3_Methods/comfyanonymous_ComfyUI-Methods.csv (deflated 79%)\n",
            "  adding: Radon_Part3_Methods/PrefectHQ_prefect-Methods.csv (deflated 88%)\n",
            "  adding: Radon_Part3_Methods/aleju_imgaug-Methods.csv (deflated 85%)\n",
            "  adding: Radon_Part3_Methods/OpenBMB_ChatDev-Methods.csv (deflated 84%)\n",
            "  adding: Radon_Part3_Methods/mlc-ai_mlc-llm-Methods.csv (deflated 85%)\n",
            "  adding: Radon_Part3_Methods/PaddlePaddle_PaddleNLP-Methods.csv (deflated 85%)\n"
          ]
        }
      ],
      "source": [
        "! zip -r \"./Radon_Par3_Methods.zip\" \"./Radon_Part3_Methods\""
      ]
    },
    {
      "cell_type": "code",
      "source": [
        "! rm -rf \"/content/RadonResultsPart3\"\n",
        "! rm -rf \"/content/Radon_Part3_json\""
      ],
      "metadata": {
        "id": "5AsIn3FRnx32"
      },
      "execution_count": null,
      "outputs": []
    }
  ],
  "metadata": {
    "colab": {
      "provenance": []
    },
    "kernelspec": {
      "display_name": "Python 3",
      "name": "python3"
    },
    "language_info": {
      "name": "python"
    },
    "widgets": {
      "application/vnd.jupyter.widget-state+json": {
        "98d1e4a9031a4241904796f2f1c3bdb3": {
          "model_module": "@jupyter-widgets/controls",
          "model_name": "HBoxModel",
          "model_module_version": "1.5.0",
          "state": {
            "_dom_classes": [],
            "_model_module": "@jupyter-widgets/controls",
            "_model_module_version": "1.5.0",
            "_model_name": "HBoxModel",
            "_view_count": null,
            "_view_module": "@jupyter-widgets/controls",
            "_view_module_version": "1.5.0",
            "_view_name": "HBoxView",
            "box_style": "",
            "children": [
              "IPY_MODEL_f44b2198be744e55b3deaf3868ac7162",
              "IPY_MODEL_0c1a43aa9c5c43e08681bb3d28921a27",
              "IPY_MODEL_5002c99ed5254c0280eebd2c18c29fd7"
            ],
            "layout": "IPY_MODEL_070ed3309cfa4adda84c8f1a6fa34056"
          }
        },
        "f44b2198be744e55b3deaf3868ac7162": {
          "model_module": "@jupyter-widgets/controls",
          "model_name": "HTMLModel",
          "model_module_version": "1.5.0",
          "state": {
            "_dom_classes": [],
            "_model_module": "@jupyter-widgets/controls",
            "_model_module_version": "1.5.0",
            "_model_name": "HTMLModel",
            "_view_count": null,
            "_view_module": "@jupyter-widgets/controls",
            "_view_module_version": "1.5.0",
            "_view_name": "HTMLView",
            "description": "",
            "description_tooltip": null,
            "layout": "IPY_MODEL_bc604a156508440e909d6e3f5cd01ee1",
            "placeholder": "​",
            "style": "IPY_MODEL_9c88afcd3b0d401bbb7a9015282be447",
            "value": "Processing mindsdb_mindsdb: 100%"
          }
        },
        "0c1a43aa9c5c43e08681bb3d28921a27": {
          "model_module": "@jupyter-widgets/controls",
          "model_name": "FloatProgressModel",
          "model_module_version": "1.5.0",
          "state": {
            "_dom_classes": [],
            "_model_module": "@jupyter-widgets/controls",
            "_model_module_version": "1.5.0",
            "_model_name": "FloatProgressModel",
            "_view_count": null,
            "_view_module": "@jupyter-widgets/controls",
            "_view_module_version": "1.5.0",
            "_view_name": "ProgressView",
            "bar_style": "success",
            "description": "",
            "description_tooltip": null,
            "layout": "IPY_MODEL_546e861b0ed44136b6f691cb98113205",
            "max": 1,
            "min": 0,
            "orientation": "horizontal",
            "style": "IPY_MODEL_cfe76670127b4e99b7f75996dc121765",
            "value": 1
          }
        },
        "5002c99ed5254c0280eebd2c18c29fd7": {
          "model_module": "@jupyter-widgets/controls",
          "model_name": "HTMLModel",
          "model_module_version": "1.5.0",
          "state": {
            "_dom_classes": [],
            "_model_module": "@jupyter-widgets/controls",
            "_model_module_version": "1.5.0",
            "_model_name": "HTMLModel",
            "_view_count": null,
            "_view_module": "@jupyter-widgets/controls",
            "_view_module_version": "1.5.0",
            "_view_name": "HTMLView",
            "description": "",
            "description_tooltip": null,
            "layout": "IPY_MODEL_b62f332148f345af8d035e0076469334",
            "placeholder": "​",
            "style": "IPY_MODEL_38a90c5ccffd45de9e150d556174d3d9",
            "value": " 1/1 [15:49&lt;00:00, 949.19s/it, Deleting repository...]"
          }
        },
        "070ed3309cfa4adda84c8f1a6fa34056": {
          "model_module": "@jupyter-widgets/base",
          "model_name": "LayoutModel",
          "model_module_version": "1.2.0",
          "state": {
            "_model_module": "@jupyter-widgets/base",
            "_model_module_version": "1.2.0",
            "_model_name": "LayoutModel",
            "_view_count": null,
            "_view_module": "@jupyter-widgets/base",
            "_view_module_version": "1.2.0",
            "_view_name": "LayoutView",
            "align_content": null,
            "align_items": null,
            "align_self": null,
            "border": null,
            "bottom": null,
            "display": null,
            "flex": null,
            "flex_flow": null,
            "grid_area": null,
            "grid_auto_columns": null,
            "grid_auto_flow": null,
            "grid_auto_rows": null,
            "grid_column": null,
            "grid_gap": null,
            "grid_row": null,
            "grid_template_areas": null,
            "grid_template_columns": null,
            "grid_template_rows": null,
            "height": null,
            "justify_content": null,
            "justify_items": null,
            "left": null,
            "margin": null,
            "max_height": null,
            "max_width": null,
            "min_height": null,
            "min_width": null,
            "object_fit": null,
            "object_position": null,
            "order": null,
            "overflow": null,
            "overflow_x": null,
            "overflow_y": null,
            "padding": null,
            "right": null,
            "top": null,
            "visibility": null,
            "width": null
          }
        },
        "bc604a156508440e909d6e3f5cd01ee1": {
          "model_module": "@jupyter-widgets/base",
          "model_name": "LayoutModel",
          "model_module_version": "1.2.0",
          "state": {
            "_model_module": "@jupyter-widgets/base",
            "_model_module_version": "1.2.0",
            "_model_name": "LayoutModel",
            "_view_count": null,
            "_view_module": "@jupyter-widgets/base",
            "_view_module_version": "1.2.0",
            "_view_name": "LayoutView",
            "align_content": null,
            "align_items": null,
            "align_self": null,
            "border": null,
            "bottom": null,
            "display": null,
            "flex": null,
            "flex_flow": null,
            "grid_area": null,
            "grid_auto_columns": null,
            "grid_auto_flow": null,
            "grid_auto_rows": null,
            "grid_column": null,
            "grid_gap": null,
            "grid_row": null,
            "grid_template_areas": null,
            "grid_template_columns": null,
            "grid_template_rows": null,
            "height": null,
            "justify_content": null,
            "justify_items": null,
            "left": null,
            "margin": null,
            "max_height": null,
            "max_width": null,
            "min_height": null,
            "min_width": null,
            "object_fit": null,
            "object_position": null,
            "order": null,
            "overflow": null,
            "overflow_x": null,
            "overflow_y": null,
            "padding": null,
            "right": null,
            "top": null,
            "visibility": null,
            "width": null
          }
        },
        "9c88afcd3b0d401bbb7a9015282be447": {
          "model_module": "@jupyter-widgets/controls",
          "model_name": "DescriptionStyleModel",
          "model_module_version": "1.5.0",
          "state": {
            "_model_module": "@jupyter-widgets/controls",
            "_model_module_version": "1.5.0",
            "_model_name": "DescriptionStyleModel",
            "_view_count": null,
            "_view_module": "@jupyter-widgets/base",
            "_view_module_version": "1.2.0",
            "_view_name": "StyleView",
            "description_width": ""
          }
        },
        "546e861b0ed44136b6f691cb98113205": {
          "model_module": "@jupyter-widgets/base",
          "model_name": "LayoutModel",
          "model_module_version": "1.2.0",
          "state": {
            "_model_module": "@jupyter-widgets/base",
            "_model_module_version": "1.2.0",
            "_model_name": "LayoutModel",
            "_view_count": null,
            "_view_module": "@jupyter-widgets/base",
            "_view_module_version": "1.2.0",
            "_view_name": "LayoutView",
            "align_content": null,
            "align_items": null,
            "align_self": null,
            "border": null,
            "bottom": null,
            "display": null,
            "flex": null,
            "flex_flow": null,
            "grid_area": null,
            "grid_auto_columns": null,
            "grid_auto_flow": null,
            "grid_auto_rows": null,
            "grid_column": null,
            "grid_gap": null,
            "grid_row": null,
            "grid_template_areas": null,
            "grid_template_columns": null,
            "grid_template_rows": null,
            "height": null,
            "justify_content": null,
            "justify_items": null,
            "left": null,
            "margin": null,
            "max_height": null,
            "max_width": null,
            "min_height": null,
            "min_width": null,
            "object_fit": null,
            "object_position": null,
            "order": null,
            "overflow": null,
            "overflow_x": null,
            "overflow_y": null,
            "padding": null,
            "right": null,
            "top": null,
            "visibility": null,
            "width": null
          }
        },
        "cfe76670127b4e99b7f75996dc121765": {
          "model_module": "@jupyter-widgets/controls",
          "model_name": "ProgressStyleModel",
          "model_module_version": "1.5.0",
          "state": {
            "_model_module": "@jupyter-widgets/controls",
            "_model_module_version": "1.5.0",
            "_model_name": "ProgressStyleModel",
            "_view_count": null,
            "_view_module": "@jupyter-widgets/base",
            "_view_module_version": "1.2.0",
            "_view_name": "StyleView",
            "bar_color": null,
            "description_width": ""
          }
        },
        "b62f332148f345af8d035e0076469334": {
          "model_module": "@jupyter-widgets/base",
          "model_name": "LayoutModel",
          "model_module_version": "1.2.0",
          "state": {
            "_model_module": "@jupyter-widgets/base",
            "_model_module_version": "1.2.0",
            "_model_name": "LayoutModel",
            "_view_count": null,
            "_view_module": "@jupyter-widgets/base",
            "_view_module_version": "1.2.0",
            "_view_name": "LayoutView",
            "align_content": null,
            "align_items": null,
            "align_self": null,
            "border": null,
            "bottom": null,
            "display": null,
            "flex": null,
            "flex_flow": null,
            "grid_area": null,
            "grid_auto_columns": null,
            "grid_auto_flow": null,
            "grid_auto_rows": null,
            "grid_column": null,
            "grid_gap": null,
            "grid_row": null,
            "grid_template_areas": null,
            "grid_template_columns": null,
            "grid_template_rows": null,
            "height": null,
            "justify_content": null,
            "justify_items": null,
            "left": null,
            "margin": null,
            "max_height": null,
            "max_width": null,
            "min_height": null,
            "min_width": null,
            "object_fit": null,
            "object_position": null,
            "order": null,
            "overflow": null,
            "overflow_x": null,
            "overflow_y": null,
            "padding": null,
            "right": null,
            "top": null,
            "visibility": null,
            "width": null
          }
        },
        "38a90c5ccffd45de9e150d556174d3d9": {
          "model_module": "@jupyter-widgets/controls",
          "model_name": "DescriptionStyleModel",
          "model_module_version": "1.5.0",
          "state": {
            "_model_module": "@jupyter-widgets/controls",
            "_model_module_version": "1.5.0",
            "_model_name": "DescriptionStyleModel",
            "_view_count": null,
            "_view_module": "@jupyter-widgets/base",
            "_view_module_version": "1.2.0",
            "_view_name": "StyleView",
            "description_width": ""
          }
        },
        "75f3bed9c1b147839345146efcb545e9": {
          "model_module": "@jupyter-widgets/controls",
          "model_name": "HBoxModel",
          "model_module_version": "1.5.0",
          "state": {
            "_dom_classes": [],
            "_model_module": "@jupyter-widgets/controls",
            "_model_module_version": "1.5.0",
            "_model_name": "HBoxModel",
            "_view_count": null,
            "_view_module": "@jupyter-widgets/controls",
            "_view_module_version": "1.5.0",
            "_view_name": "HBoxView",
            "box_style": "",
            "children": [
              "IPY_MODEL_f85690044d1a4b0a8514a670c500febe",
              "IPY_MODEL_558ee090ca75471bb1aefb3db58e1b08",
              "IPY_MODEL_67cd734cac684482b0bbefa2f1ede25c"
            ],
            "layout": "IPY_MODEL_55829ecba39341e6bd28981f0e15bcb0"
          }
        },
        "f85690044d1a4b0a8514a670c500febe": {
          "model_module": "@jupyter-widgets/controls",
          "model_name": "HTMLModel",
          "model_module_version": "1.5.0",
          "state": {
            "_dom_classes": [],
            "_model_module": "@jupyter-widgets/controls",
            "_model_module_version": "1.5.0",
            "_model_name": "HTMLModel",
            "_view_count": null,
            "_view_module": "@jupyter-widgets/controls",
            "_view_module_version": "1.5.0",
            "_view_name": "HTMLView",
            "description": "",
            "description_tooltip": null,
            "layout": "IPY_MODEL_83775112e05a45aaae789491397b4907",
            "placeholder": "​",
            "style": "IPY_MODEL_ab82953ef0334729a595f23509e3bb7c",
            "value": "100%"
          }
        },
        "558ee090ca75471bb1aefb3db58e1b08": {
          "model_module": "@jupyter-widgets/controls",
          "model_name": "FloatProgressModel",
          "model_module_version": "1.5.0",
          "state": {
            "_dom_classes": [],
            "_model_module": "@jupyter-widgets/controls",
            "_model_module_version": "1.5.0",
            "_model_name": "FloatProgressModel",
            "_view_count": null,
            "_view_module": "@jupyter-widgets/controls",
            "_view_module_version": "1.5.0",
            "_view_name": "ProgressView",
            "bar_style": "success",
            "description": "",
            "description_tooltip": null,
            "layout": "IPY_MODEL_412a760d95844ff0a3037fc07c1b886d",
            "max": 1690,
            "min": 0,
            "orientation": "horizontal",
            "style": "IPY_MODEL_8245a6cbaafc483787303dd8e92062b6",
            "value": 1690
          }
        },
        "67cd734cac684482b0bbefa2f1ede25c": {
          "model_module": "@jupyter-widgets/controls",
          "model_name": "HTMLModel",
          "model_module_version": "1.5.0",
          "state": {
            "_dom_classes": [],
            "_model_module": "@jupyter-widgets/controls",
            "_model_module_version": "1.5.0",
            "_model_name": "HTMLModel",
            "_view_count": null,
            "_view_module": "@jupyter-widgets/controls",
            "_view_module_version": "1.5.0",
            "_view_name": "HTMLView",
            "description": "",
            "description_tooltip": null,
            "layout": "IPY_MODEL_144ff7143be648f19612a10b0a32c14a",
            "placeholder": "​",
            "style": "IPY_MODEL_f47781ae84a842d9b67a6308bd929cdd",
            "value": " 1690/1690 [15:35&lt;00:00,  2.00it/s]"
          }
        },
        "55829ecba39341e6bd28981f0e15bcb0": {
          "model_module": "@jupyter-widgets/base",
          "model_name": "LayoutModel",
          "model_module_version": "1.2.0",
          "state": {
            "_model_module": "@jupyter-widgets/base",
            "_model_module_version": "1.2.0",
            "_model_name": "LayoutModel",
            "_view_count": null,
            "_view_module": "@jupyter-widgets/base",
            "_view_module_version": "1.2.0",
            "_view_name": "LayoutView",
            "align_content": null,
            "align_items": null,
            "align_self": null,
            "border": null,
            "bottom": null,
            "display": null,
            "flex": null,
            "flex_flow": null,
            "grid_area": null,
            "grid_auto_columns": null,
            "grid_auto_flow": null,
            "grid_auto_rows": null,
            "grid_column": null,
            "grid_gap": null,
            "grid_row": null,
            "grid_template_areas": null,
            "grid_template_columns": null,
            "grid_template_rows": null,
            "height": null,
            "justify_content": null,
            "justify_items": null,
            "left": null,
            "margin": null,
            "max_height": null,
            "max_width": null,
            "min_height": null,
            "min_width": null,
            "object_fit": null,
            "object_position": null,
            "order": null,
            "overflow": null,
            "overflow_x": null,
            "overflow_y": null,
            "padding": null,
            "right": null,
            "top": null,
            "visibility": null,
            "width": null
          }
        },
        "83775112e05a45aaae789491397b4907": {
          "model_module": "@jupyter-widgets/base",
          "model_name": "LayoutModel",
          "model_module_version": "1.2.0",
          "state": {
            "_model_module": "@jupyter-widgets/base",
            "_model_module_version": "1.2.0",
            "_model_name": "LayoutModel",
            "_view_count": null,
            "_view_module": "@jupyter-widgets/base",
            "_view_module_version": "1.2.0",
            "_view_name": "LayoutView",
            "align_content": null,
            "align_items": null,
            "align_self": null,
            "border": null,
            "bottom": null,
            "display": null,
            "flex": null,
            "flex_flow": null,
            "grid_area": null,
            "grid_auto_columns": null,
            "grid_auto_flow": null,
            "grid_auto_rows": null,
            "grid_column": null,
            "grid_gap": null,
            "grid_row": null,
            "grid_template_areas": null,
            "grid_template_columns": null,
            "grid_template_rows": null,
            "height": null,
            "justify_content": null,
            "justify_items": null,
            "left": null,
            "margin": null,
            "max_height": null,
            "max_width": null,
            "min_height": null,
            "min_width": null,
            "object_fit": null,
            "object_position": null,
            "order": null,
            "overflow": null,
            "overflow_x": null,
            "overflow_y": null,
            "padding": null,
            "right": null,
            "top": null,
            "visibility": null,
            "width": null
          }
        },
        "ab82953ef0334729a595f23509e3bb7c": {
          "model_module": "@jupyter-widgets/controls",
          "model_name": "DescriptionStyleModel",
          "model_module_version": "1.5.0",
          "state": {
            "_model_module": "@jupyter-widgets/controls",
            "_model_module_version": "1.5.0",
            "_model_name": "DescriptionStyleModel",
            "_view_count": null,
            "_view_module": "@jupyter-widgets/base",
            "_view_module_version": "1.2.0",
            "_view_name": "StyleView",
            "description_width": ""
          }
        },
        "412a760d95844ff0a3037fc07c1b886d": {
          "model_module": "@jupyter-widgets/base",
          "model_name": "LayoutModel",
          "model_module_version": "1.2.0",
          "state": {
            "_model_module": "@jupyter-widgets/base",
            "_model_module_version": "1.2.0",
            "_model_name": "LayoutModel",
            "_view_count": null,
            "_view_module": "@jupyter-widgets/base",
            "_view_module_version": "1.2.0",
            "_view_name": "LayoutView",
            "align_content": null,
            "align_items": null,
            "align_self": null,
            "border": null,
            "bottom": null,
            "display": null,
            "flex": null,
            "flex_flow": null,
            "grid_area": null,
            "grid_auto_columns": null,
            "grid_auto_flow": null,
            "grid_auto_rows": null,
            "grid_column": null,
            "grid_gap": null,
            "grid_row": null,
            "grid_template_areas": null,
            "grid_template_columns": null,
            "grid_template_rows": null,
            "height": null,
            "justify_content": null,
            "justify_items": null,
            "left": null,
            "margin": null,
            "max_height": null,
            "max_width": null,
            "min_height": null,
            "min_width": null,
            "object_fit": null,
            "object_position": null,
            "order": null,
            "overflow": null,
            "overflow_x": null,
            "overflow_y": null,
            "padding": null,
            "right": null,
            "top": null,
            "visibility": null,
            "width": null
          }
        },
        "8245a6cbaafc483787303dd8e92062b6": {
          "model_module": "@jupyter-widgets/controls",
          "model_name": "ProgressStyleModel",
          "model_module_version": "1.5.0",
          "state": {
            "_model_module": "@jupyter-widgets/controls",
            "_model_module_version": "1.5.0",
            "_model_name": "ProgressStyleModel",
            "_view_count": null,
            "_view_module": "@jupyter-widgets/base",
            "_view_module_version": "1.2.0",
            "_view_name": "StyleView",
            "bar_color": null,
            "description_width": ""
          }
        },
        "144ff7143be648f19612a10b0a32c14a": {
          "model_module": "@jupyter-widgets/base",
          "model_name": "LayoutModel",
          "model_module_version": "1.2.0",
          "state": {
            "_model_module": "@jupyter-widgets/base",
            "_model_module_version": "1.2.0",
            "_model_name": "LayoutModel",
            "_view_count": null,
            "_view_module": "@jupyter-widgets/base",
            "_view_module_version": "1.2.0",
            "_view_name": "LayoutView",
            "align_content": null,
            "align_items": null,
            "align_self": null,
            "border": null,
            "bottom": null,
            "display": null,
            "flex": null,
            "flex_flow": null,
            "grid_area": null,
            "grid_auto_columns": null,
            "grid_auto_flow": null,
            "grid_auto_rows": null,
            "grid_column": null,
            "grid_gap": null,
            "grid_row": null,
            "grid_template_areas": null,
            "grid_template_columns": null,
            "grid_template_rows": null,
            "height": null,
            "justify_content": null,
            "justify_items": null,
            "left": null,
            "margin": null,
            "max_height": null,
            "max_width": null,
            "min_height": null,
            "min_width": null,
            "object_fit": null,
            "object_position": null,
            "order": null,
            "overflow": null,
            "overflow_x": null,
            "overflow_y": null,
            "padding": null,
            "right": null,
            "top": null,
            "visibility": null,
            "width": null
          }
        },
        "f47781ae84a842d9b67a6308bd929cdd": {
          "model_module": "@jupyter-widgets/controls",
          "model_name": "DescriptionStyleModel",
          "model_module_version": "1.5.0",
          "state": {
            "_model_module": "@jupyter-widgets/controls",
            "_model_module_version": "1.5.0",
            "_model_name": "DescriptionStyleModel",
            "_view_count": null,
            "_view_module": "@jupyter-widgets/base",
            "_view_module_version": "1.2.0",
            "_view_name": "StyleView",
            "description_width": ""
          }
        }
      }
    }
  },
  "nbformat": 4,
  "nbformat_minor": 0
}