{
  "nbformat": 4,
  "nbformat_minor": 0,
  "metadata": {
    "colab": {
      "provenance": []
    },
    "kernelspec": {
      "name": "python3",
      "display_name": "Python 3"
    },
    "language_info": {
      "name": "python"
    },
    "widgets": {
      "application/vnd.jupyter.widget-state+json": {
        "991ffdbbb7454110a391ececd7867e43": {
          "model_module": "@jupyter-widgets/controls",
          "model_name": "HBoxModel",
          "model_module_version": "1.5.0",
          "state": {
            "_dom_classes": [],
            "_model_module": "@jupyter-widgets/controls",
            "_model_module_version": "1.5.0",
            "_model_name": "HBoxModel",
            "_view_count": null,
            "_view_module": "@jupyter-widgets/controls",
            "_view_module_version": "1.5.0",
            "_view_name": "HBoxView",
            "box_style": "",
            "children": [
              "IPY_MODEL_30f908223bf24290a1fd0b24517bd9c5",
              "IPY_MODEL_414487ca1f1a4ec7b0e842ea35d62ff9",
              "IPY_MODEL_10f53a06e7cf41d081b1e2a95669ad91"
            ],
            "layout": "IPY_MODEL_47f3c6c82de34618ae8245d2ea0bd99e"
          }
        },
        "30f908223bf24290a1fd0b24517bd9c5": {
          "model_module": "@jupyter-widgets/controls",
          "model_name": "HTMLModel",
          "model_module_version": "1.5.0",
          "state": {
            "_dom_classes": [],
            "_model_module": "@jupyter-widgets/controls",
            "_model_module_version": "1.5.0",
            "_model_name": "HTMLModel",
            "_view_count": null,
            "_view_module": "@jupyter-widgets/controls",
            "_view_module_version": "1.5.0",
            "_view_name": "HTMLView",
            "description": "",
            "description_tooltip": null,
            "layout": "IPY_MODEL_2d7ff9dd12c444479e9784d12aba914e",
            "placeholder": "​",
            "style": "IPY_MODEL_f953390133ed41fea1c3c868054837f4",
            "value": "Processing mindsdb_mindsdb: 100%"
          }
        },
        "414487ca1f1a4ec7b0e842ea35d62ff9": {
          "model_module": "@jupyter-widgets/controls",
          "model_name": "FloatProgressModel",
          "model_module_version": "1.5.0",
          "state": {
            "_dom_classes": [],
            "_model_module": "@jupyter-widgets/controls",
            "_model_module_version": "1.5.0",
            "_model_name": "FloatProgressModel",
            "_view_count": null,
            "_view_module": "@jupyter-widgets/controls",
            "_view_module_version": "1.5.0",
            "_view_name": "ProgressView",
            "bar_style": "success",
            "description": "",
            "description_tooltip": null,
            "layout": "IPY_MODEL_02ec72220870452bb7ca40da1fb63b3b",
            "max": 27,
            "min": 0,
            "orientation": "horizontal",
            "style": "IPY_MODEL_c13aaf52e89649b1a761756c1d9ea812",
            "value": 27
          }
        },
        "10f53a06e7cf41d081b1e2a95669ad91": {
          "model_module": "@jupyter-widgets/controls",
          "model_name": "HTMLModel",
          "model_module_version": "1.5.0",
          "state": {
            "_dom_classes": [],
            "_model_module": "@jupyter-widgets/controls",
            "_model_module_version": "1.5.0",
            "_model_name": "HTMLModel",
            "_view_count": null,
            "_view_module": "@jupyter-widgets/controls",
            "_view_module_version": "1.5.0",
            "_view_name": "HTMLView",
            "description": "",
            "description_tooltip": null,
            "layout": "IPY_MODEL_d371ed8f21bb442fbfc92076b7b4fa0d",
            "placeholder": "​",
            "style": "IPY_MODEL_6c1c72415581449f8812fb3022dc73b3",
            "value": " 27/27 [2:37:43&lt;00:00, 233.21s/it, Deleting repository...]"
          }
        },
        "47f3c6c82de34618ae8245d2ea0bd99e": {
          "model_module": "@jupyter-widgets/base",
          "model_name": "LayoutModel",
          "model_module_version": "1.2.0",
          "state": {
            "_model_module": "@jupyter-widgets/base",
            "_model_module_version": "1.2.0",
            "_model_name": "LayoutModel",
            "_view_count": null,
            "_view_module": "@jupyter-widgets/base",
            "_view_module_version": "1.2.0",
            "_view_name": "LayoutView",
            "align_content": null,
            "align_items": null,
            "align_self": null,
            "border": null,
            "bottom": null,
            "display": null,
            "flex": null,
            "flex_flow": null,
            "grid_area": null,
            "grid_auto_columns": null,
            "grid_auto_flow": null,
            "grid_auto_rows": null,
            "grid_column": null,
            "grid_gap": null,
            "grid_row": null,
            "grid_template_areas": null,
            "grid_template_columns": null,
            "grid_template_rows": null,
            "height": null,
            "justify_content": null,
            "justify_items": null,
            "left": null,
            "margin": null,
            "max_height": null,
            "max_width": null,
            "min_height": null,
            "min_width": null,
            "object_fit": null,
            "object_position": null,
            "order": null,
            "overflow": null,
            "overflow_x": null,
            "overflow_y": null,
            "padding": null,
            "right": null,
            "top": null,
            "visibility": null,
            "width": null
          }
        },
        "2d7ff9dd12c444479e9784d12aba914e": {
          "model_module": "@jupyter-widgets/base",
          "model_name": "LayoutModel",
          "model_module_version": "1.2.0",
          "state": {
            "_model_module": "@jupyter-widgets/base",
            "_model_module_version": "1.2.0",
            "_model_name": "LayoutModel",
            "_view_count": null,
            "_view_module": "@jupyter-widgets/base",
            "_view_module_version": "1.2.0",
            "_view_name": "LayoutView",
            "align_content": null,
            "align_items": null,
            "align_self": null,
            "border": null,
            "bottom": null,
            "display": null,
            "flex": null,
            "flex_flow": null,
            "grid_area": null,
            "grid_auto_columns": null,
            "grid_auto_flow": null,
            "grid_auto_rows": null,
            "grid_column": null,
            "grid_gap": null,
            "grid_row": null,
            "grid_template_areas": null,
            "grid_template_columns": null,
            "grid_template_rows": null,
            "height": null,
            "justify_content": null,
            "justify_items": null,
            "left": null,
            "margin": null,
            "max_height": null,
            "max_width": null,
            "min_height": null,
            "min_width": null,
            "object_fit": null,
            "object_position": null,
            "order": null,
            "overflow": null,
            "overflow_x": null,
            "overflow_y": null,
            "padding": null,
            "right": null,
            "top": null,
            "visibility": null,
            "width": null
          }
        },
        "f953390133ed41fea1c3c868054837f4": {
          "model_module": "@jupyter-widgets/controls",
          "model_name": "DescriptionStyleModel",
          "model_module_version": "1.5.0",
          "state": {
            "_model_module": "@jupyter-widgets/controls",
            "_model_module_version": "1.5.0",
            "_model_name": "DescriptionStyleModel",
            "_view_count": null,
            "_view_module": "@jupyter-widgets/base",
            "_view_module_version": "1.2.0",
            "_view_name": "StyleView",
            "description_width": ""
          }
        },
        "02ec72220870452bb7ca40da1fb63b3b": {
          "model_module": "@jupyter-widgets/base",
          "model_name": "LayoutModel",
          "model_module_version": "1.2.0",
          "state": {
            "_model_module": "@jupyter-widgets/base",
            "_model_module_version": "1.2.0",
            "_model_name": "LayoutModel",
            "_view_count": null,
            "_view_module": "@jupyter-widgets/base",
            "_view_module_version": "1.2.0",
            "_view_name": "LayoutView",
            "align_content": null,
            "align_items": null,
            "align_self": null,
            "border": null,
            "bottom": null,
            "display": null,
            "flex": null,
            "flex_flow": null,
            "grid_area": null,
            "grid_auto_columns": null,
            "grid_auto_flow": null,
            "grid_auto_rows": null,
            "grid_column": null,
            "grid_gap": null,
            "grid_row": null,
            "grid_template_areas": null,
            "grid_template_columns": null,
            "grid_template_rows": null,
            "height": null,
            "justify_content": null,
            "justify_items": null,
            "left": null,
            "margin": null,
            "max_height": null,
            "max_width": null,
            "min_height": null,
            "min_width": null,
            "object_fit": null,
            "object_position": null,
            "order": null,
            "overflow": null,
            "overflow_x": null,
            "overflow_y": null,
            "padding": null,
            "right": null,
            "top": null,
            "visibility": null,
            "width": null
          }
        },
        "c13aaf52e89649b1a761756c1d9ea812": {
          "model_module": "@jupyter-widgets/controls",
          "model_name": "ProgressStyleModel",
          "model_module_version": "1.5.0",
          "state": {
            "_model_module": "@jupyter-widgets/controls",
            "_model_module_version": "1.5.0",
            "_model_name": "ProgressStyleModel",
            "_view_count": null,
            "_view_module": "@jupyter-widgets/base",
            "_view_module_version": "1.2.0",
            "_view_name": "StyleView",
            "bar_color": null,
            "description_width": ""
          }
        },
        "d371ed8f21bb442fbfc92076b7b4fa0d": {
          "model_module": "@jupyter-widgets/base",
          "model_name": "LayoutModel",
          "model_module_version": "1.2.0",
          "state": {
            "_model_module": "@jupyter-widgets/base",
            "_model_module_version": "1.2.0",
            "_model_name": "LayoutModel",
            "_view_count": null,
            "_view_module": "@jupyter-widgets/base",
            "_view_module_version": "1.2.0",
            "_view_name": "LayoutView",
            "align_content": null,
            "align_items": null,
            "align_self": null,
            "border": null,
            "bottom": null,
            "display": null,
            "flex": null,
            "flex_flow": null,
            "grid_area": null,
            "grid_auto_columns": null,
            "grid_auto_flow": null,
            "grid_auto_rows": null,
            "grid_column": null,
            "grid_gap": null,
            "grid_row": null,
            "grid_template_areas": null,
            "grid_template_columns": null,
            "grid_template_rows": null,
            "height": null,
            "justify_content": null,
            "justify_items": null,
            "left": null,
            "margin": null,
            "max_height": null,
            "max_width": null,
            "min_height": null,
            "min_width": null,
            "object_fit": null,
            "object_position": null,
            "order": null,
            "overflow": null,
            "overflow_x": null,
            "overflow_y": null,
            "padding": null,
            "right": null,
            "top": null,
            "visibility": null,
            "width": null
          }
        },
        "6c1c72415581449f8812fb3022dc73b3": {
          "model_module": "@jupyter-widgets/controls",
          "model_name": "DescriptionStyleModel",
          "model_module_version": "1.5.0",
          "state": {
            "_model_module": "@jupyter-widgets/controls",
            "_model_module_version": "1.5.0",
            "_model_name": "DescriptionStyleModel",
            "_view_count": null,
            "_view_module": "@jupyter-widgets/base",
            "_view_module_version": "1.2.0",
            "_view_name": "StyleView",
            "description_width": ""
          }
        }
      }
    }
  },
  "cells": [
    {
      "cell_type": "code",
      "source": [
        "from IPython.display import clear_output"
      ],
      "metadata": {
        "id": "r2qSONNVTbnm"
      },
      "execution_count": null,
      "outputs": []
    },
    {
      "cell_type": "code",
      "source": [
        "!sudo apt install python3.8\n",
        "clear_output()"
      ],
      "metadata": {
        "id": "j4KYbhcVO_Hm"
      },
      "execution_count": null,
      "outputs": []
    },
    {
      "cell_type": "code",
      "execution_count": null,
      "metadata": {
        "id": "L7EtOlkH8OTF"
      },
      "outputs": [],
      "source": [
        "!wget https://www.sourcemeter.com/static/SourceMeter-10.2.0-x64-Linux.tgz\n",
        "clear_output()"
      ]
    },
    {
      "cell_type": "code",
      "source": [
        "!tar zxvf SourceMeter-10.2.0-x64-Linux.tgz\n",
        "clear_output()"
      ],
      "metadata": {
        "id": "27UEd69I8ko1"
      },
      "execution_count": null,
      "outputs": []
    },
    {
      "cell_type": "code",
      "source": [
        "TXT_FILENAME = 'em_repo_stars_part3.txt'\n",
        "with open(TXT_FILENAME) as f:\n",
        "    repos = [line.strip() for line in f.readlines()]"
      ],
      "metadata": {
        "id": "jsdDxQyUBUT1"
      },
      "execution_count": null,
      "outputs": []
    },
    {
      "cell_type": "code",
      "source": [
        "import os\n",
        "import subprocess\n",
        "from tqdm.notebook import tqdm"
      ],
      "metadata": {
        "id": "mTWFKW9ASgYB"
      },
      "execution_count": null,
      "outputs": []
    },
    {
      "cell_type": "code",
      "source": [
        "def create_init_files(root_dir):\n",
        "    for path, subdirs, files in os.walk(root_dir):\n",
        "        open(f\"{path}/__init__.py\", 'w').close()"
      ],
      "metadata": {
        "id": "FgHj_stnfUKn"
      },
      "execution_count": null,
      "outputs": []
    },
    {
      "cell_type": "code",
      "source": [
        "pbar = tqdm(repos)\n",
        "for repo in pbar:\n",
        "    # get folder name\n",
        "    folder_name = repo.split('/')[-1]\n",
        "    # get repo name\n",
        "    repo_name = \"_\".join(repo.split('/')[-2:])\n",
        "    pbar.set_description_str(f\"Processing {repo_name}\")\n",
        "    # clone repo\n",
        "    pbar.set_postfix_str(\"Cloning Repository...\")\n",
        "    subprocess.run([\"git\", \"clone\", repo])\n",
        "    create_init_files(folder_name)\n",
        "    # calculate metrics\n",
        "    pbar.set_postfix_str(f\"Running SourceMeter...\")\n",
        "    subprocess.run([\n",
        "        \"./SourceMeter-10.2.0-x64-Linux/Python/AnalyzerPython\",\n",
        "        \"-pythonBinary=python3.8\",\n",
        "        \"-pythonVersion=3\",\n",
        "        \"-runDCF=False\",\n",
        "        f\"-projectName={repo_name}\",\n",
        "        f\"-projectBaseDir={folder_name}\",\n",
        "        f\"-resultsDir=Results/{repo_name}\"\n",
        "    ])\n",
        "    # # # save to gdrive\n",
        "    # pbar.set_postfix_str(f\"Saving Results to GDrive...\")\n",
        "    subprocess.run(['zip', '-r', 'SMResultsPart1_2.zip', 'Results'])\n",
        "    subprocess.run(['cp', '-r', 'SMResultsPart1_2.zip', 'drive/MyDrive'])\n",
        "    subprocess.run(['rm', '-rf', 'SMResultsPart1_2.zip'])\n",
        "    # delete repository\n",
        "    pbar.set_postfix_str(f\"Deleting repository...\")\n",
        "    subprocess.run(['rm', '-rf', folder_name])"
      ],
      "metadata": {
        "id": "8Vo4QI8NcPLs",
        "outputId": "dacaee66-5e6d-4bc5-c442-33292768fd1b",
        "colab": {
          "base_uri": "https://localhost:8080/",
          "height": 49,
          "referenced_widgets": [
            "991ffdbbb7454110a391ececd7867e43",
            "30f908223bf24290a1fd0b24517bd9c5",
            "414487ca1f1a4ec7b0e842ea35d62ff9",
            "10f53a06e7cf41d081b1e2a95669ad91",
            "47f3c6c82de34618ae8245d2ea0bd99e",
            "2d7ff9dd12c444479e9784d12aba914e",
            "f953390133ed41fea1c3c868054837f4",
            "02ec72220870452bb7ca40da1fb63b3b",
            "c13aaf52e89649b1a761756c1d9ea812",
            "d371ed8f21bb442fbfc92076b7b4fa0d",
            "6c1c72415581449f8812fb3022dc73b3"
          ]
        }
      },
      "execution_count": null,
      "outputs": [
        {
          "output_type": "display_data",
          "data": {
            "text/plain": [
              "  0%|          | 0/27 [00:00<?, ?it/s]"
            ],
            "application/vnd.jupyter.widget-view+json": {
              "version_major": 2,
              "version_minor": 0,
              "model_id": "991ffdbbb7454110a391ececd7867e43"
            }
          },
          "metadata": {}
        }
      ]
    },
    {
      "cell_type": "code",
      "source": [
        "! unzip \"/content/SMResultsPart3.zip\" -d \"/content/Results\"\n",
        "clear_output()"
      ],
      "metadata": {
        "id": "bJ3-fbgEZjXX"
      },
      "execution_count": null,
      "outputs": []
    },
    {
      "cell_type": "code",
      "source": [
        "from pathlib import Path, PurePath\n",
        "import glob\n",
        "import shutil\n",
        "\n",
        "os.mkdir(\"/content/SM_Part3_Method\", mode=0o777)\n",
        "dirs = os.listdir(\"/content/Results/Results\")\n",
        "for file in glob.glob(r'/content/Results/Results/*/*/python/*/*-Method.csv'):\n",
        "    print(file)\n",
        "    if os.path.isfile(file):\n",
        "        shutil.copy(file, \"/content/SM_Part3_Method/\")\n",
        "    else:\n",
        "        print(\"fail\")\n",
        "\n",
        "# for path in Path(\"/content\").glob(\"Results\"):\n",
        "    # csv_path = path.glob(\"*/*/python/*/*-Method.csv\")\n",
        "    # os.rename(\"path/to/current/file.foo\", \"path/to/new/destination/for/file.foo\")\n",
        "    # os.replace(\"path/to/current/file.foo\", \"path/to/new/destination/for/file.foo\")\n",
        "    # shutil.move(\"path/to/current/file.foo\", \"path/to/new/destination/for/file.foo\")\n",
        "clear_output()"
      ],
      "metadata": {
        "id": "U_ABTgylOK5o"
      },
      "execution_count": null,
      "outputs": []
    },
    {
      "cell_type": "code",
      "source": [
        "! zip -r \"./SM_Part3_Method.zip\" \"./SM_Part3_Method\"\n",
        "clear_output()"
      ],
      "metadata": {
        "id": "4IhDZjBL02ZG"
      },
      "execution_count": null,
      "outputs": []
    }
  ]
}